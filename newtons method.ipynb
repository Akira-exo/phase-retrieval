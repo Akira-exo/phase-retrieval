{
 "cells": [
  {
   "cell_type": "code",
   "execution_count": 1,
   "id": "humanitarian-batch",
   "metadata": {},
   "outputs": [],
   "source": [
    "import matplotlib.image as mpimg\n",
    "import matplotlib.pyplot as plt\n",
    "import numpy as np\n",
    "import math\n",
    "from numpy import linalg as LA\n",
    "params ={'axes.labelsize' : 20,\n",
    "         'axes.titlesize' : 20,\n",
    "         'xtick.labelsize' : 15,\n",
    "         'ytick.labelsize' : 15,}\n",
    "plt.rcParams.update(params)"
   ]
  },
  {
   "cell_type": "markdown",
   "id": "weekly-video",
   "metadata": {},
   "source": [
    "### ITERATIVE methods for Ptychographic phase retrieval"
   ]
  },
  {
   "cell_type": "code",
   "execution_count": 2,
   "id": "chicken-developer",
   "metadata": {},
   "outputs": [],
   "source": [
    "def getErrorFunc(obj, mask_data_list, measured_data_list):\n",
    "    '''calculates the error function rho(obj) and its derivatives for a given set of obj and experiment setup data/\n",
    "\n",
    "    Parameters\n",
    "    ----------\n",
    "    rho : error function\n",
    "         =rho(obj)\n",
    "    Drho : function\n",
    "        Derivative of rho(obj).\n",
    "    obj : vector (Signal object)\n",
    "        At which to calculate the obj \n",
    "    mask_data_list : 2d numpy array\n",
    "        list of the mask functions shifted by some detuning parameter used to get the different copies of data\n",
    "    measured_data_list : 2d numpy array\n",
    "        list of Intensity(t) signals measured at the detector\n",
    "\n",
    "    Returns\n",
    "    -------\n",
    "    obj_n : vector (Signal object)\n",
    "        \n",
    "    '''\n",
    "    \n",
    "    L = len(mask_data_list) #total number of masks used\n",
    "\n",
    "    rho = 0 #scalar\n",
    "    Drho = np.zeros_like(mask_data_list[0])  #complex vector Nx1\n",
    "    #Drho_2 = np.zeros_like(mask_data_list[0]) \n",
    "\n",
    "    #hessian is a block complex matrix 2N X 2N\n",
    "    H_11=0\n",
    "    H_12=0\n",
    "    H_21=0\n",
    "    H_22=0\n",
    "\n",
    "    for i in range(L): #iterates over all different probe positions i\n",
    "\n",
    "            #for the i-th copy of the measured signal\n",
    "\n",
    "            Q = np.diag(mask_data_list[i])\n",
    "            Q_star = np.diag(np.conj(mask_data_list[i]))\n",
    "            z= np.fft.ifft(Q.dot(obj)) # z_i = invF.Q_i.obj_n #fake image function\n",
    "\n",
    "            b = np.sqrt(measured_data_list[i]) #b_i = sqrt(I_i)\n",
    "            r = abs(z)-b #residuals\n",
    "\n",
    "            rho+=0.5*LA.norm(r)**2 # rho (for nth iteration) = 0.5*||r||^2   \n",
    "\n",
    "            Drho+= 0.5*Q_star.dot( \n",
    "                                     np.fft.fft(  \n",
    "                                                 np.diag(z/abs(z)).dot(\n",
    "                                                                        r) \n",
    "                                                 )\n",
    "                                    ) # = J_star*r\n",
    "\n",
    "                          #EQUIVALENTLY-->\n",
    "            #Q_i* (probe*guess object - fouriertransform(measured amplitude*guessedphase ))\n",
    "            #Drho_2+= 0.5*( Q_star.dot(Q.dot(obj)) - Q_star.dot(np.fft.fft( np.diag(z/abs(z)).dot(b))))\n",
    "\n",
    "\n",
    "\n",
    "            #CALCULATING THE HESSIAN of rho_n\n",
    "            #as Q is diagonal matrix, Q^T = Q; Q^- = Q_star\n",
    "\n",
    "            H_11 += 0.5* ( Q_star.dot(Q) - 0.5*Q_star.dot( \n",
    "                                                          np.fft.fft( \n",
    "                                                                      np.diag(b/abs(z)).dot(\n",
    "                                                                                            np.fft.ifft(Q)\n",
    "                                                                                            )\n",
    "                                                                      ) \n",
    "                                                            )\n",
    "                              )\n",
    "\n",
    "\n",
    "\n",
    "            H_12 += 0.5* ( Q.dot(Q_star) - 0.5*Q.dot( \n",
    "                                                     np.transpose(\n",
    "                                                                  np.fft.ifft( \n",
    "                                                                              np.diag(b/abs(z)).dot(\n",
    "                                                                                                     np.conj(\n",
    "                                                                                                              np.fft.ifft(Q) \n",
    "                                                                                                             )\n",
    "                                                                                                    )\n",
    "                                                                                ) \n",
    "                                                                    )\n",
    "                                                      )\n",
    "                           )\n",
    "\n",
    "\n",
    "            H_21 += 0.25*( Q_star.dot(\n",
    "                                       np.fft.fft(\n",
    "                                                   np.diag(b*z**2/abs(z)**3 ).dot(\n",
    "                                                                                   np.conj(\n",
    "                                                                                            np.fft.ifft(Q)\n",
    "                                                                                           )  \n",
    "                                                                                   )\n",
    "                                                   )\n",
    "                                       )\n",
    "                         )\n",
    "\n",
    "\n",
    "\n",
    "            H_22 += 0.25*(  Q.dot(\n",
    "                                   np.transpose(\n",
    "                                                np.fft.ifft(\n",
    "                                                            np.diag(b*np.conj(z)/abs(z)).dot(\n",
    "                                                                                              np.fft.ifft(Q)\n",
    "                                                                                             )\n",
    "                                                            )\n",
    "                                                )\n",
    "                                   )\n",
    "                           )\n",
    "\n",
    "\n",
    "            Hessian = np.bmat([ [H_11, H_12],[ H_21, H_22 ] ])\n",
    "\n",
    "\n",
    "    return rho, Drho, Hessian\n"
   ]
  },
  {
   "cell_type": "code",
   "execution_count": 3,
   "id": "steady-greece",
   "metadata": {},
   "outputs": [],
   "source": [
    "def get_rho_regularised(obj, mask_data_list,  measured_data_list, alpha):\n",
    "    '''calculates the error function rho(obj) and its derivatives for a given set of obj and experiment setup data/\n",
    "\n",
    "    Parameters\n",
    "    ----------\n",
    "    rho : error function\n",
    "         =rho(obj)\n",
    "    Drho : function\n",
    "        Derivative of rho(obj).\n",
    "    obj : vector (Signal object)\n",
    "        At which to calculate the obj \n",
    "    mask_data_list : 2d numpy array\n",
    "        list of the mask functions shifted by some detuning parameter used to get the different copies of data\n",
    "    measured_data_list : 2d numpy array\n",
    "        list of Intensity(t) signals measured at the detector\n",
    "\n",
    "    Returns\n",
    "    -------\n",
    "    obj_n : vector (Signal object)\n",
    "        \n",
    "    '''\n",
    "    \n",
    "    L = len(mask_data_list) #total number of masks used\n",
    "    \n",
    "    Drho = np.zeros_like(mask_data_list[0])  #complex vector Nx1\n",
    "    #Drho_2 = np.zeros_like(mask_data_list[0]) \n",
    "\n",
    "\n",
    "\n",
    "    rho = 0 #scalar\n",
    "\n",
    "    for i in range(L): #iterates over all different probe positions i\n",
    "\n",
    "            #for the i-th copy of the measured signal\n",
    "\n",
    "            Q = np.diag(mask_data_list[i])\n",
    "            Q_star = np.diag(np.conj(mask_data_list[i]))\n",
    "            z= np.fft.ifft(Q.dot(obj)) # z_i = invF.Q_i.obj_n #fake image function\n",
    "\n",
    "            b = np.sqrt(measured_data_list[i]) #b_i = sqrt(I_i)\n",
    "            r = abs(z)-b #residuals\n",
    "            a = mask_data_list[i]\n",
    "            update = abs(a)/max(abs(a)) *1/(abs(a)**2+ alpha )\n",
    "            \n",
    "\n",
    "            rho+=0.5*LA.norm(r)**2 # rho (for nth iteration) = 0.5*||r||^2  \n",
    "            Drho+= 0.5*Q_star.dot( \n",
    "                                     np.fft.fft(  \n",
    "                                                 np.diag(z/abs(z)).dot(\n",
    "                                                                        r) \n",
    "                                                 )\n",
    "                                    ) # = J_star*r\n",
    "\n",
    "    return rho,Drho\n",
    "\n",
    "\n"
   ]
  },
  {
   "cell_type": "code",
   "execution_count": 4,
   "id": "compound-regular",
   "metadata": {},
   "outputs": [],
   "source": [
    "def get_rho(obj, mask_data_list, measured_data_list):\n",
    "    '''calculates the error function rho(obj) and its derivatives for a given set of obj and experiment setup data/\n",
    "\n",
    "    Parameters\n",
    "    ----------\n",
    "    rho : error function\n",
    "         =rho(obj)\n",
    "    Drho : function\n",
    "        Derivative of rho(obj).\n",
    "    obj : vector (Signal object)\n",
    "        At which to calculate the obj \n",
    "    mask_data_list : 2d numpy array\n",
    "        list of the mask functions shifted by some detuning parameter used to get the different copies of data\n",
    "    measured_data_list : 2d numpy array\n",
    "        list of Intensity(t) signals measured at the detector\n",
    "\n",
    "    Returns\n",
    "    -------\n",
    "    obj_n : vector (Signal object)\n",
    "        \n",
    "    '''\n",
    "    \n",
    "    L = len(mask_data_list) #total number of masks used\n",
    "    \n",
    "    Drho = np.zeros_like(mask_data_list[0])  #complex vector Nx1\n",
    "    #Drho_2 = np.zeros_like(mask_data_list[0]) \n",
    "\n",
    "\n",
    "\n",
    "    rho = 0 #scalar\n",
    "\n",
    "    for i in range(L): #iterates over all different probe positions i\n",
    "\n",
    "            #for the i-th copy of the measured signal\n",
    "\n",
    "            Q = np.diag(mask_data_list[i])\n",
    "            Q_star = np.diag(np.conj(mask_data_list[i]))\n",
    "            z= np.fft.ifft(Q.dot(obj)) # z_i = invF.Q_i.obj_n #fake image function\n",
    "\n",
    "            b = np.sqrt(measured_data_list[i]) #b_i = sqrt(I_i)\n",
    "            r = abs(z)-b #residuals\n",
    "            \n",
    "            \n",
    "\n",
    "            rho+=0.5*LA.norm(r)**2 # rho (for nth iteration) = 0.5*||r||^2  \n",
    "            Drho+= 0.5*Q_star.dot( \n",
    "                                     np.fft.fft(  \n",
    "                                                 np.diag(z/abs(z)).dot(\n",
    "                                                                        r) \n",
    "                                                 )\n",
    "                                    ) # = J_star*r\n",
    "\n",
    "    return rho,Drho\n",
    "\n"
   ]
  },
  {
   "cell_type": "code",
   "execution_count": 5,
   "id": "worldwide-seller",
   "metadata": {},
   "outputs": [],
   "source": [
    "#function to implement Newton's method\n",
    "def SteepestDescent0(mask_data_list, measured_data_list, obj_0, eta, beta, alpha, epsilon, max_iter):\n",
    "    \n",
    "    \n",
    "    '''Approximate solution of rho(obj)=0 by ITERATIVE SD method.\n",
    "\n",
    "    Parameters\n",
    "    ----------\n",
    "    rho : error function\n",
    "        Function for which we are searching for a solution rho(obj)=0.\n",
    "    Drho : function\n",
    "        Derivative of rho(obj).\n",
    "    obj_0 : vector (Signal object)\n",
    "        Initial guess for a solution rho(obj)=0. \n",
    "    epsilon : number\n",
    "        Stopping criteria is abs(rho(obj)) < epsilon.\n",
    "    max_iter : integer\n",
    "        Maximum number of iterations of iterative method.\n",
    "\n",
    "    Returns\n",
    "    -------\n",
    "    obj_n : vector (Signal object)\n",
    "        \n",
    "        #Implement Newton's method: compute the linear approximation\n",
    "        of f(x) at xn and find x intercept by the formula\n",
    "            x = xn - f(xn)/Df(xn)\n",
    "        Continue until abs(f(xn)) < epsilon and return xn.\n",
    "        If Df(xn) == 0, return None. If the number of iterations\n",
    "        exceeds max_iter, then return None.\n",
    "    '''\n",
    " \n",
    "    obj_n = obj_0 #initial guess of the object\n",
    "    \n",
    "    Lambda = eta\n",
    "    rho_n, Drho_n = get_rho(obj_n, mask_data_list, measured_data_list) #initial rho and Drho\n",
    "    obj_n_1 = obj_n -Lambda*Drho_n\n",
    "    rho_n_1, Drho_n_1 = get_rho(obj_n_1, mask_data_list, measured_data_list) #initial rho and Drho\n",
    "    \n",
    "    rho = np.zeros(max_iter)\n",
    "\n",
    "    \n",
    "    for n in range(0,max_iter-1):\n",
    "  \n",
    "        \n",
    "        #1. Check if the object guess error is acceptable. We want to have error rho_n as close to 0 as possible.\n",
    "        #If it is, exit the program!\n",
    "        \n",
    "        rho[n] = rho_n\n",
    "        \n",
    "        if abs(rho_n) < epsilon:  \n",
    "            print('Found solution after',n,'iterations.')\n",
    "            return obj_n, rho \n",
    "        \n",
    "        #2. Check if the object guess is stuck at an inflexion point.\n",
    "            \n",
    "        if np.all(Drho_n==0):\n",
    "            print('Gradient is zero. No solution found.')\n",
    "            return obj_n, rho\n",
    "        \n",
    "        #3. apply an update to object guess (obj_n):\n",
    "        \n",
    "\n",
    "            \n",
    "        Lambda = eta\n",
    "        p_n= -Drho_n #search direction for steepest descent\n",
    "        \n",
    "        #obj_n_1 = obj_n +Lambda*p_n\n",
    "        #stepsize using backtracking by Armijo's rule\n",
    "        \n",
    "        ared = rho_n_1 - rho_n\n",
    "        pred = Lambda*LA.norm(Drho_n)**2\n",
    "        \n",
    "       # print(ared,pred)\n",
    "        \n",
    "        while(ared < alpha*pred ):\n",
    "            \n",
    "            rho_n_1,Drho_n_1 = rho_n,Drho_n\n",
    "            obj_n = obj_n+Lambda*p_n  \n",
    "            rho_n,Drho_n = get_rho(obj_n, mask_data_list, measured_data_list)\n",
    "            \n",
    "            Lambda*= beta\n",
    "            ared = rho_n_1 - rho_n \n",
    "            pred = Lambda*LA.norm(Drho_n_1)**2\n",
    "            \n",
    "        \n",
    "    print('Exceeded maximum iterations. No solution found.')\n",
    "            \n",
    "    return obj_n, rho"
   ]
  },
  {
   "cell_type": "code",
   "execution_count": 6,
   "id": "primary-joining",
   "metadata": {},
   "outputs": [],
   "source": [
    "#function to implement Newton's method\n",
    "def SteepestDescent1(mask_data_list, measured_data_list, obj_0, eta, beta, alpha, epsilon, max_iter):\n",
    "    \n",
    "    \n",
    "    '''Approximate solution of rho(obj)=0 by ITERATIVE SD method.\n",
    "\n",
    "    Parameters\n",
    "    ----------\n",
    "    rho : error function\n",
    "        Function for which we are searching for a solution rho(obj)=0.\n",
    "    Drho : function\n",
    "        Derivative of rho(obj).\n",
    "    obj_0 : vector (Signal object)\n",
    "        Initial guess for a solution rho(obj)=0. \n",
    "    epsilon : number\n",
    "        Stopping criteria is abs(rho(obj)) < epsilon.\n",
    "    max_iter : integer\n",
    "        Maximum number of iterations of iterative method.\n",
    "\n",
    "    Returns\n",
    "    -------\n",
    "    obj_n : vector (Signal object)\n",
    "        \n",
    "        #Implement Newton's method: compute the linear approximation\n",
    "        of f(x) at xn and find x intercept by the formula\n",
    "            x = xn - f(xn)/Df(xn)\n",
    "        Continue until abs(f(xn)) < epsilon and return xn.\n",
    "        If Df(xn) == 0, return None. If the number of iterations\n",
    "        exceeds max_iter, then return None.\n",
    "    '''\n",
    " \n",
    "    obj_n = obj_0 #initial guess of the object\n",
    "    \n",
    "    \n",
    "    rho_n, Drho_n = get_rho(obj_n, mask_data_list, measured_data_list) #initial rho and Drho\n",
    "    \n",
    "    rho = np.zeros(max_iter)\n",
    "\n",
    "    \n",
    "    for n in range(0,max_iter-1):\n",
    "  \n",
    "        \n",
    "        #1. Check if the object guess error is acceptable. We want to have error rho_n as close to 0 as possible.\n",
    "        #If it is, exit the program!\n",
    "        \n",
    "        rho[n] = rho_n\n",
    "        \n",
    "        if abs(rho_n) < epsilon:  \n",
    "            print('Found solution after',n,'iterations.')\n",
    "            return obj_n, rho \n",
    "        \n",
    "        #2. Check if the object guess is stuck at an inflexion point.\n",
    "            \n",
    "        if np.all(Drho_n==0):\n",
    "            print('Gradient is zero. No solution found.')\n",
    "            return obj_n, rho\n",
    "        \n",
    "        #3. apply an update to object guess (obj_n):\n",
    "        \n",
    "        rho_n_1=rho_n\n",
    "        stepsize = backtrack(alpha,beta, eta, obj_n, mask_data_list, measured_data_list )\n",
    "        obj_n -= stepsize*Drho_n\n",
    "        rho_n,Drho_n = get_rho(obj_n, mask_data_list, measured_data_list)\n",
    "            \n",
    "        \n",
    "        #alpha = 0.0001\n",
    "        #p_n= -Drho_n #search direction for steepest descent\n",
    "        \n",
    "        #obj_n_1 = obj_n +Lambda*p_n\n",
    "        #stepsize using backtracking by Armijo's rule\n",
    "       # Lambda = beta\n",
    "       # ared = rho_n_1 - rho_n\n",
    "       # pred = Lambda*LA.norm(Drho_n)**2\n",
    "        \n",
    "       # print(ared,pred)\n",
    "        \n",
    "       # while(ared < alpha*pred ):\n",
    "            \n",
    "        #    rho_n_1,Drho_n_1 = rho_n,Drho_n\n",
    "         #   obj_n = obj_n+Lambda*p_n  \n",
    "          #  rho_n,Drho_n = get_rho(obj_n, mask_data_list, measured_data_list)\n",
    "            \n",
    "          #  Lambda*= beta\n",
    "          #  ared = rho_n_1 - rho_n \n",
    "           # pred = Lambda*LA.norm(Drho_n_1)**2\n",
    "            \n",
    "        \n",
    "    print('Exceeded maximum iterations. No solution found.')\n",
    "            \n",
    "    return obj_n, rho"
   ]
  },
  {
   "cell_type": "code",
   "execution_count": 7,
   "id": "correct-wrong",
   "metadata": {},
   "outputs": [],
   "source": [
    "def backtrack(alpha,beta, eta, obj_n, mask_data_list, measured_data_list ):\n",
    "    Lambda = eta\n",
    "    while armijo(alpha,Lambda, obj_n, mask_data_list, measured_data_list) is False:\n",
    "        Lambda *= beta \n",
    "    return Lambda"
   ]
  },
  {
   "cell_type": "code",
   "execution_count": 8,
   "id": "centered-exception",
   "metadata": {},
   "outputs": [],
   "source": [
    "def armijo(alpha, Lambda, obj_n, mask_data_list, measured_data_list):  \n",
    "            \n",
    "            rho_n,Drho_n = get_rho(obj_n, mask_data_list, measured_data_list)\n",
    "            rho_n_1,Drho_n_1 = get_rho(obj_n - Lambda*Drho_n, mask_data_list, measured_data_list)\n",
    "            left = rho_n_1-rho_n\n",
    "            right =  -1 * alpha * Lambda * LA.norm(Drho_n)**2\n",
    "            res = left <= right\n",
    "            # print(left, right)\n",
    "            return res"
   ]
  },
  {
   "cell_type": "markdown",
   "id": "blind-conducting",
   "metadata": {},
   "source": [
    "### Simulating experimental data"
   ]
  },
  {
   "cell_type": "code",
   "execution_count": 9,
   "id": "independent-emerald",
   "metadata": {},
   "outputs": [],
   "source": [
    "#function to generate a spectrum with some energy detuning:\n",
    "\n",
    "def get_spectrum(E_detuning): #in keV\n",
    "    #1. take sample spectrum\n",
    "    #2. take detuned masked spectrum\n",
    "    #3. convolute and get the image at the detector\n",
    "    #4. GET A LIST of images with different detunings\n",
    "    h = 4.135*10**(-6) #neV.s \n",
    "    #sample spectrum\n",
    "    Gamma = 4.66 #neV\n",
    "    N = 100 # number of points in a DFT\n",
    "    w= np.linspace(-100,100,N) #in units of Gamma\n",
    "    \n",
    "    sample_w_0= 0 \n",
    "    sample_fwhm_0= 20 #neV\n",
    "\n",
    "    sample_amp = 1/(1+4*(w-sample_w_0)**2/sample_fwhm_0**2) #normalised\n",
    "    sample_phase = math.pi/(1+np.exp(-2*(w-sample_w_0)))\n",
    "\n",
    "\n",
    "    #mask spectrum\n",
    "    mask_w_0= 0 #(keV)\n",
    "    mask_fwhm_0= 20 #neV\n",
    "    mask_amp = 1/(1+4*(w-(mask_w_0+E_detuning))**2/mask_fwhm_0**2)\n",
    "    mask_phase = math.pi/(1+np.exp(-2*(w-(mask_w_0+E_detuning))))\n",
    "\n",
    "    sample_data = sample_amp*np.exp(1j*sample_phase)\n",
    "    mask_data   = mask_amp*np.exp(1j*mask_phase)\n",
    "    exp_data= sample_data*mask_data\n",
    "    detector_img= np.fft.ifft(exp_data)\n",
    "\n",
    "    time_data = np.linspace(0,10**9 *h/(Gamma*abs(w[1]-w[0])), len(exp_data)) # the plot of frequencies\n",
    "    return w, time_data, np.abs(detector_img)**2 , mask_data, sample_data"
   ]
  },
  {
   "cell_type": "code",
   "execution_count": 10,
   "id": "tamil-first",
   "metadata": {},
   "outputs": [],
   "source": [
    "#simulate experimental data\n",
    "img_data=[]\n",
    "detuned_mask_data =[]\n",
    "\n",
    "for E_detuning in np.linspace(-50,50,50): #detuning unit in gamma, 50 copies of detuned measurements\n",
    "    w, time_data, ydata, mask_data, sample_data = get_spectrum(E_detuning)\n",
    "    #ydata[45:]=0\n",
    "    img_data.append(ydata)\n",
    "    detuned_mask_data.append(mask_data)\n",
    "    \n"
   ]
  },
  {
   "cell_type": "code",
   "execution_count": 12,
   "id": "absent-memorial",
   "metadata": {},
   "outputs": [],
   "source": [
    "noise_mask = np.random.poisson(img_data)\n",
    "img_data+=noise_mask\n",
    "noisy_img = img_data + noise_mask"
   ]
  },
  {
   "cell_type": "code",
   "execution_count": null,
   "id": "modern-indian",
   "metadata": {},
   "outputs": [],
   "source": []
  },
  {
   "cell_type": "code",
   "execution_count": 13,
   "id": "rising-hepatitis",
   "metadata": {},
   "outputs": [],
   "source": [
    "measured_data_list=np.stack(img_data, axis=0) #50 Real measured Intensity spectra\n",
    "mask_data_list = np.stack(detuned_mask_data, axis=0) #50 Complex Mask spectra"
   ]
  },
  {
   "cell_type": "code",
   "execution_count": 14,
   "id": "industrial-coast",
   "metadata": {},
   "outputs": [
    {
     "data": {
      "image/png": "[encoded data removed]",
      "text/plain": [
       "<Figure size 576x576 with 2 Axes>"
      ]
     },
     "metadata": {
      "needs_background": "light"
     },
     "output_type": "display_data"
    }
   ],
   "source": [
    "plt.figure(figsize=(8,8))\n",
    "plt.title('Measured Intensity Data', fontsize=15)\n",
    "plt.imshow(measured_data_list,interpolation='nearest',aspect='auto')\n",
    "plt.xlabel('time (ns)', fontsize=10)\n",
    "plt.ylabel('Energy detuning (keV)', fontsize=10)\n",
    "plt.colorbar()\n",
    "plt.show()"
   ]
  },
  {
   "cell_type": "code",
   "execution_count": 15,
   "id": "confirmed-appeal",
   "metadata": {},
   "outputs": [
    {
     "data": {
      "image/png": "[encoded data removed]",
      "text/plain": [
       "<Figure size 576x576 with 2 Axes>"
      ]
     },
     "metadata": {
      "needs_background": "light"
     },
     "output_type": "display_data"
    }
   ],
   "source": [
    "plt.figure(figsize=(8,8))\n",
    "plt.xlabel('Energy (keV)', fontsize=10)\n",
    "plt.ylabel('Energy detuning (keV)', fontsize=10)\n",
    "plt.title('Mask function Data', fontsize=15)\n",
    "plt.imshow(np.angle(mask_data_list),interpolation='nearest',aspect='auto', extent = [w[0] , w[-1], -1.5 , 1.5])\n",
    "plt.colorbar()\n",
    "plt.show()"
   ]
  },
  {
   "cell_type": "code",
   "execution_count": 16,
   "id": "polish-award",
   "metadata": {},
   "outputs": [
    {
     "data": {
      "text/plain": [
       "<Figure size 576x576 with 0 Axes>"
      ]
     },
     "metadata": {},
     "output_type": "display_data"
    },
    {
     "data": {
      "image/png": "[encoded data removed]",
      "text/plain": [
       "<Figure size 432x288 with 1 Axes>"
      ]
     },
     "metadata": {
      "needs_background": "light"
     },
     "output_type": "display_data"
    }
   ],
   "source": [
    "plt.figure(figsize=(8,8))\n",
    "fig,ax= plt.subplots()\n",
    "ax.plot(w, np.angle(sample_data), color = \"blue\")\n",
    "ax.plot(w, np.abs(sample_data), color = \"red\")\n",
    "#ax.plot(w, exp_phase)\n",
    "ax.set(xlabel = \"detuning ($\\Gamma$)\",\n",
    "       ylabel = \"\",\n",
    "       title = \" X($\\omega$)\")\n",
    "plt.show()"
   ]
  },
  {
   "cell_type": "code",
   "execution_count": 17,
   "id": "velvet-counter",
   "metadata": {},
   "outputs": [
    {
     "data": {
      "text/plain": [
       "array([199.65128755, 204.08798283, 208.52467811, 212.96137339,\n",
       "       217.39806867, 221.83476395, 226.27145923, 230.70815451,\n",
       "       235.14484979, 239.58154506, 244.01824034, 248.45493562,\n",
       "       252.8916309 , 257.32832618, 261.76502146, 266.20171674,\n",
       "       270.63841202, 275.0751073 , 279.51180258, 283.94849785,\n",
       "       288.38519313, 292.82188841, 297.25858369, 301.69527897,\n",
       "       306.13197425, 310.56866953, 315.00536481, 319.44206009,\n",
       "       323.87875536, 328.31545064, 332.75214592, 337.1888412 ,\n",
       "       341.62553648, 346.06223176, 350.49892704, 354.93562232,\n",
       "       359.3723176 , 363.80901288, 368.24570815, 372.68240343,\n",
       "       377.11909871, 381.55579399, 385.99248927, 390.42918455,\n",
       "       394.86587983, 399.30257511, 403.73927039, 408.17596567,\n",
       "       412.61266094, 417.04935622, 421.4860515 , 425.92274678,\n",
       "       430.35944206, 434.79613734, 439.23283262])"
      ]
     },
     "execution_count": 17,
     "metadata": {},
     "output_type": "execute_result"
    }
   ],
   "source": [
    "time_data[45:]"
   ]
  },
  {
   "cell_type": "code",
   "execution_count": 18,
   "id": "front-lender",
   "metadata": {},
   "outputs": [
    {
     "data": {
      "image/png": "[encoded data removed]",
      "text/plain": [
       "<Figure size 432x288 with 1 Axes>"
      ]
     },
     "metadata": {
      "needs_background": "light"
     },
     "output_type": "display_data"
    }
   ],
   "source": [
    "fig,ax= plt.subplots()\n",
    "\n",
    "ax.semilogy(time_data,measured_data_list[2], color = \"black\")\n",
    "#ax.plot(w, exp_phase)\n",
    "#ax.set_xlim([0,800])\n",
    "ax.set(xlabel = \"time (ns)\",\n",
    "       ylabel = \"Intensity\")\n",
    "#ax.xaxis.label.set_size(20)\n",
    "#ax.yaxis.label.set_size(20)\n",
    "\n",
    "plt.show()"
   ]
  },
  {
   "cell_type": "markdown",
   "id": "weighted-cargo",
   "metadata": {},
   "source": [
    "## TESTING section!!!!!!\n",
    "\n",
    "\n",
    "#### Preprocessing: Take an intelligent guess of the object initialisation"
   ]
  },
  {
   "cell_type": "code",
   "execution_count": 19,
   "id": "stock-italian",
   "metadata": {},
   "outputs": [],
   "source": [
    "K =np.diag(np.sum(abs(mask_data_list)**2,axis=0))\n",
    "K_inv = np.diag(1.0/np.sum(abs(mask_data_list)**2,axis=0))\n",
    "sum_Qb =np.zeros_like(mask_data_list[0])\n",
    "for i in range(len(mask_data_list)):\n",
    "    sum_Qb += np.conj(mask_data_list[i])*(measured_data_list[i])\n",
    "    \n",
    "obj_0 = K_inv.dot(sum_Qb) #initialize object function  "
   ]
  },
  {
   "cell_type": "code",
   "execution_count": 20,
   "id": "pleased-morgan",
   "metadata": {},
   "outputs": [
    {
     "data": {
      "image/png": "[encoded data removed]",
      "text/plain": [
       "<Figure size 432x288 with 1 Axes>"
      ]
     },
     "metadata": {
      "needs_background": "light"
     },
     "output_type": "display_data"
    }
   ],
   "source": [
    "fig,ax= plt.subplots()\n",
    "ax.plot(w, np.angle(obj_0), color = \"blue\")\n",
    "ax.plot(w, np.abs(obj_0), color = \"red\")\n",
    "#ax.plot(w, exp_phase)\n",
    "ax.set(xlabel = \"frequency (keV)\",\n",
    "       ylabel = \"amplitude(red), phase (blue)\",\n",
    "       title = \"initial guess of the object function X($\\omega$)\")\n",
    "plt.show()"
   ]
  },
  {
   "cell_type": "markdown",
   "id": "fundamental-performer",
   "metadata": {},
   "source": [
    "### PIE algorithm (Rodenberg)"
   ]
  },
  {
   "cell_type": "code",
   "execution_count": 21,
   "id": "durable-location",
   "metadata": {},
   "outputs": [],
   "source": [
    "def HannosMethod(mask_data_list, measured_data_list, obj_0, alpha, beta,max_iter):\n",
    "    \n",
    "    obj_n = obj_0\n",
    "    z_c = np.zeros_like(obj_0)\n",
    "    for n in range(0,max_iter):\n",
    "        \n",
    "        L= len(mask_data_list)\n",
    "        \n",
    "        \n",
    "        for i in range(L): #iterates over all different probe positions i\n",
    "\n",
    "            #for the i-th copy of the measured signal\n",
    "\n",
    "            a = mask_data_list[i] #probe function\n",
    "            a_star = np.conj(a) #probe* function\n",
    "            psi_guess= a*obj_n #exit wave\n",
    "            z= np.fft.ifft(psi_guess) # exit wave in time plane\n",
    "            #z_c[:180]= z[:180]\n",
    "            \n",
    "            b = np.sqrt(measured_data_list[i]) #b_i = sqrt(I_i) real measured amplitude of the convoluted signal\n",
    "            #b = b/LA.norm(b) #normalise b\n",
    "            z_c =b*np.exp(1j*np.angle(z)) # z_c(t) corrected conv signal guess in t domain\n",
    "            psi_corrected =  np.fft.fft(z_c) #corrected exit wave\n",
    "            \n",
    "            #object update\n",
    "            #obj_n = obj_n+ beta* abs(a)/max(abs(a)) *  abs(a)/(abs(a)**2 + alpha)*(psi_corrected-psi_guess)\n",
    "            obj_n = obj_n+ alpha* 1/( (abs(a))**2 +0.000000001) *(a_star)*(psi_corrected-psi_guess)\n",
    "            #obj_n = obj_n+ alpha* 1/( max(abs(a))**2 +0.000000001) *(a_star)*(psi_corrected-psi_guess)\n",
    "        \n",
    "        \n",
    "        \n",
    "    #print('Exceeded maximum iterations. No solution found.')\n",
    "            \n",
    "    return obj_n"
   ]
  },
  {
   "cell_type": "code",
   "execution_count": null,
   "id": "least-madonna",
   "metadata": {},
   "outputs": [],
   "source": []
  },
  {
   "cell_type": "code",
   "execution_count": 22,
   "id": "dense-coalition",
   "metadata": {},
   "outputs": [
    {
     "data": {
      "text/plain": [
       "[<matplotlib.lines.Line2D at 0x7fd5906b4580>]"
      ]
     },
     "execution_count": 22,
     "metadata": {},
     "output_type": "execute_result"
    },
    {
     "data": {
      "image/png": "[encoded data removed]",
      "text/plain": [
       "<Figure size 432x288 with 1 Axes>"
      ]
     },
     "metadata": {
      "needs_background": "light"
     },
     "output_type": "display_data"
    }
   ],
   "source": [
    "obj_0 = sample_data\n",
    "a = mask_data_list[0] #probe function\n",
    "a_star = np.conj(a) #probe function\n",
    "psi_guess= a*obj_0\n",
    "plt.plot(np.angle(psi_guess))"
   ]
  },
  {
   "cell_type": "code",
   "execution_count": 23,
   "id": "attached-draft",
   "metadata": {},
   "outputs": [
    {
     "ename": "NameError",
     "evalue": "name 'normalise' is not defined",
     "output_type": "error",
     "traceback": [
      "\u001b[0;31m---------------------------------------------------------------------------\u001b[0m",
      "\u001b[0;31mNameError\u001b[0m                                 Traceback (most recent call last)",
      "\u001b[0;32m<ipython-input-23-d07a218381ce>\u001b[0m in \u001b[0;36m<module>\u001b[0;34m\u001b[0m\n\u001b[1;32m      1\u001b[0m \u001b[0mz\u001b[0m\u001b[0;34m=\u001b[0m \u001b[0mnp\u001b[0m\u001b[0;34m.\u001b[0m\u001b[0mfft\u001b[0m\u001b[0;34m.\u001b[0m\u001b[0mifft\u001b[0m\u001b[0;34m(\u001b[0m\u001b[0mpsi_guess\u001b[0m\u001b[0;34m)\u001b[0m\u001b[0;34m\u001b[0m\u001b[0;34m\u001b[0m\u001b[0m\n\u001b[1;32m      2\u001b[0m \u001b[0mb\u001b[0m \u001b[0;34m=\u001b[0m \u001b[0mnp\u001b[0m\u001b[0;34m.\u001b[0m\u001b[0msqrt\u001b[0m\u001b[0;34m(\u001b[0m\u001b[0mmeasured_data_list\u001b[0m\u001b[0;34m[\u001b[0m\u001b[0;36m0\u001b[0m\u001b[0;34m]\u001b[0m\u001b[0;34m)\u001b[0m \u001b[0;31m#b_i = sqrt(I_i) real measured amplitude of the convoluted signal\u001b[0m\u001b[0;34m\u001b[0m\u001b[0;34m\u001b[0m\u001b[0m\n\u001b[0;32m----> 3\u001b[0;31m \u001b[0mb\u001b[0m \u001b[0;34m=\u001b[0m \u001b[0mnormalise\u001b[0m\u001b[0;34m(\u001b[0m\u001b[0mb\u001b[0m\u001b[0;34m)\u001b[0m \u001b[0;31m#normalise b\u001b[0m\u001b[0;34m\u001b[0m\u001b[0;34m\u001b[0m\u001b[0m\n\u001b[0m\u001b[1;32m      4\u001b[0m \u001b[0mz_c\u001b[0m \u001b[0;34m=\u001b[0m\u001b[0mb\u001b[0m\u001b[0;34m*\u001b[0m\u001b[0mnp\u001b[0m\u001b[0;34m.\u001b[0m\u001b[0mexp\u001b[0m\u001b[0;34m(\u001b[0m\u001b[0;36m1j\u001b[0m\u001b[0;34m*\u001b[0m\u001b[0mnp\u001b[0m\u001b[0;34m.\u001b[0m\u001b[0mangle\u001b[0m\u001b[0;34m(\u001b[0m\u001b[0mz\u001b[0m\u001b[0;34m)\u001b[0m\u001b[0;34m)\u001b[0m \u001b[0;31m# z_c(t) corrected conv signal guess in t domain\u001b[0m\u001b[0;34m\u001b[0m\u001b[0;34m\u001b[0m\u001b[0m\n\u001b[1;32m      5\u001b[0m \u001b[0mpsi_corrected\u001b[0m \u001b[0;34m=\u001b[0m  \u001b[0mnp\u001b[0m\u001b[0;34m.\u001b[0m\u001b[0mfft\u001b[0m\u001b[0;34m.\u001b[0m\u001b[0mfft\u001b[0m\u001b[0;34m(\u001b[0m\u001b[0mz_c\u001b[0m\u001b[0;34m)\u001b[0m\u001b[0;34m\u001b[0m\u001b[0;34m\u001b[0m\u001b[0m\n",
      "\u001b[0;31mNameError\u001b[0m: name 'normalise' is not defined"
     ]
    }
   ],
   "source": [
    "z= np.fft.ifft(psi_guess)\n",
    "b = np.sqrt(measured_data_list[0]) #b_i = sqrt(I_i) real measured amplitude of the convoluted signal\n",
    "b = normalise(b) #normalise b\n",
    "z_c =b*np.exp(1j*np.angle(z)) # z_c(t) corrected conv signal guess in t domain\n",
    "psi_corrected =  np.fft.fft(z_c)\n",
    "plt.plot(np.angle(psi_corrected))"
   ]
  },
  {
   "cell_type": "code",
   "execution_count": 24,
   "id": "japanese-warren",
   "metadata": {},
   "outputs": [
    {
     "data": {
      "text/plain": [
       "[<matplotlib.lines.Line2D at 0x7fd57084f4c0>]"
      ]
     },
     "execution_count": 24,
     "metadata": {},
     "output_type": "execute_result"
    },
    {
     "data": {
      "image/png": "[encoded data removed]",
      "text/plain": [
       "<Figure size 432x288 with 1 Axes>"
      ]
     },
     "metadata": {
      "needs_background": "light"
     },
     "output_type": "display_data"
    }
   ],
   "source": [
    "plt.plot(np.abs(psi_guess))"
   ]
  },
  {
   "cell_type": "code",
   "execution_count": 25,
   "id": "excited-caribbean",
   "metadata": {},
   "outputs": [],
   "source": [
    "psi_guess= a*obj_0\n",
    "threshold = max(abs(psi_guess))/100000; #tolerance threshold\n",
    "psi_guess[abs(psi_guess)<threshold] = 0; #maskout values that are below the threshold\n",
    "zz = np.fft.ifft(psi_guess)\n",
    "threshold = max(abs(zz))/100000; #tolerance threshold\n",
    "zz[abs(zz)<threshold] = 0; #maskout values that are below the threshold\n",
    "z= np.fft.fft(zz);#store the FFT results in another array\n",
    "#detect noise (very small numbers (eps)) and ignore them\n",
    "#threshold = max(abs(z))/10000; #tolerance threshold\n",
    "#z[abs(z)<threshold] = 0; #maskout values that are below the threshold\n"
   ]
  },
  {
   "cell_type": "code",
   "execution_count": 26,
   "id": "differential-spiritual",
   "metadata": {},
   "outputs": [
    {
     "data": {
      "text/plain": [
       "[<matplotlib.lines.Line2D at 0x7fd580a38d60>]"
      ]
     },
     "execution_count": 26,
     "metadata": {},
     "output_type": "execute_result"
    },
    {
     "data": {
      "image/png": "[encoded data removed]",
      "text/plain": [
       "<Figure size 432x288 with 1 Axes>"
      ]
     },
     "metadata": {
      "needs_background": "light"
     },
     "output_type": "display_data"
    }
   ],
   "source": [
    "plt.plot(np.angle(z))"
   ]
  },
  {
   "cell_type": "code",
   "execution_count": 27,
   "id": "finished-diary",
   "metadata": {},
   "outputs": [
    {
     "ename": "SyntaxError",
     "evalue": "invalid syntax (<ipython-input-27-49e689d90b2f>, line 1)",
     "output_type": "error",
     "traceback": [
      "\u001b[0;36m  File \u001b[0;32m\"<ipython-input-27-49e689d90b2f>\"\u001b[0;36m, line \u001b[0;32m1\u001b[0m\n\u001b[0;31m    phase=atan2(imag(X2),real(X2))*180/pi; %phase information\u001b[0m\n\u001b[0m                                           ^\u001b[0m\n\u001b[0;31mSyntaxError\u001b[0m\u001b[0;31m:\u001b[0m invalid syntax\n"
     ]
    }
   ],
   "source": [
    "phase=atan2(imag(X2),real(X2))*180/pi; %phase information\n",
    "plt.plot(phase); %phase vs frequencies"
   ]
  },
  {
   "cell_type": "code",
   "execution_count": 28,
   "id": "instant-peripheral",
   "metadata": {},
   "outputs": [
    {
     "data": {
      "text/plain": [
       "[<matplotlib.lines.Line2D at 0x7fd58056d1c0>]"
      ]
     },
     "execution_count": 28,
     "metadata": {},
     "output_type": "execute_result"
    },
    {
     "data": {
      "image/png": "[encoded data removed]",
      "text/plain": [
       "<Figure size 432x288 with 1 Axes>"
      ]
     },
     "metadata": {
      "needs_background": "light"
     },
     "output_type": "display_data"
    }
   ],
   "source": [
    "plt.plot(np.angle(np.fft.fft(np.fft.ifft(psi_guess))))"
   ]
  },
  {
   "cell_type": "code",
   "execution_count": 29,
   "id": "guided-british",
   "metadata": {},
   "outputs": [],
   "source": [
    "z= np.fft.ifft(psi_guess)"
   ]
  },
  {
   "cell_type": "code",
   "execution_count": 30,
   "id": "final-conservative",
   "metadata": {},
   "outputs": [
    {
     "data": {
      "text/plain": [
       "[<matplotlib.lines.Line2D at 0x7fd5a159de20>]"
      ]
     },
     "execution_count": 30,
     "metadata": {},
     "output_type": "execute_result"
    },
    {
     "data": {
      "image/png": "[encoded data removed]",
      "text/plain": [
       "<Figure size 432x288 with 1 Axes>"
      ]
     },
     "metadata": {
      "needs_background": "light"
     },
     "output_type": "display_data"
    }
   ],
   "source": [
    "plt.plot(np.angle(np.fft.fft(np.abs(z)*np.exp(1j*np.angle(z)))))"
   ]
  },
  {
   "cell_type": "code",
   "execution_count": 31,
   "id": "intensive-pepper",
   "metadata": {},
   "outputs": [
    {
     "ename": "NameError",
     "evalue": "name 'normalise' is not defined",
     "output_type": "error",
     "traceback": [
      "\u001b[0;31m---------------------------------------------------------------------------\u001b[0m",
      "\u001b[0;31mNameError\u001b[0m                                 Traceback (most recent call last)",
      "\u001b[0;32m<ipython-input-31-7519aa531f41>\u001b[0m in \u001b[0;36m<module>\u001b[0;34m\u001b[0m\n\u001b[1;32m      1\u001b[0m \u001b[0mz\u001b[0m\u001b[0;34m=\u001b[0m \u001b[0mnp\u001b[0m\u001b[0;34m.\u001b[0m\u001b[0mfft\u001b[0m\u001b[0;34m.\u001b[0m\u001b[0mifft\u001b[0m\u001b[0;34m(\u001b[0m\u001b[0mpsi_guess\u001b[0m\u001b[0;34m)\u001b[0m\u001b[0;34m\u001b[0m\u001b[0;34m\u001b[0m\u001b[0m\n\u001b[1;32m      2\u001b[0m \u001b[0mb\u001b[0m \u001b[0;34m=\u001b[0m \u001b[0mnp\u001b[0m\u001b[0;34m.\u001b[0m\u001b[0msqrt\u001b[0m\u001b[0;34m(\u001b[0m\u001b[0mmeasured_data_list\u001b[0m\u001b[0;34m[\u001b[0m\u001b[0;36m0\u001b[0m\u001b[0;34m]\u001b[0m\u001b[0;34m)\u001b[0m \u001b[0;31m#b_i = sqrt(I_i) real measured amplitude of the convoluted signal\u001b[0m\u001b[0;34m\u001b[0m\u001b[0;34m\u001b[0m\u001b[0m\n\u001b[0;32m----> 3\u001b[0;31m \u001b[0mb\u001b[0m \u001b[0;34m=\u001b[0m \u001b[0mnormalise\u001b[0m\u001b[0;34m(\u001b[0m\u001b[0mb\u001b[0m\u001b[0;34m)\u001b[0m \u001b[0;31m#normalise b\u001b[0m\u001b[0;34m\u001b[0m\u001b[0;34m\u001b[0m\u001b[0m\n\u001b[0m\u001b[1;32m      4\u001b[0m \u001b[0mz_c\u001b[0m \u001b[0;34m=\u001b[0m\u001b[0mb\u001b[0m\u001b[0;34m*\u001b[0m\u001b[0mnp\u001b[0m\u001b[0;34m.\u001b[0m\u001b[0mexp\u001b[0m\u001b[0;34m(\u001b[0m\u001b[0;36m1j\u001b[0m\u001b[0;34m*\u001b[0m\u001b[0mnp\u001b[0m\u001b[0;34m.\u001b[0m\u001b[0mangle\u001b[0m\u001b[0;34m(\u001b[0m\u001b[0mz\u001b[0m\u001b[0;34m)\u001b[0m\u001b[0;34m)\u001b[0m \u001b[0;31m# z_c(t) corrected conv signal guess in t domain\u001b[0m\u001b[0;34m\u001b[0m\u001b[0;34m\u001b[0m\u001b[0m\n\u001b[1;32m      5\u001b[0m \u001b[0mpsi_corrected\u001b[0m \u001b[0;34m=\u001b[0m  \u001b[0mnp\u001b[0m\u001b[0;34m.\u001b[0m\u001b[0mfft\u001b[0m\u001b[0;34m.\u001b[0m\u001b[0mfft\u001b[0m\u001b[0;34m(\u001b[0m\u001b[0mz_c\u001b[0m\u001b[0;34m)\u001b[0m\u001b[0;34m\u001b[0m\u001b[0;34m\u001b[0m\u001b[0m\n",
      "\u001b[0;31mNameError\u001b[0m: name 'normalise' is not defined"
     ]
    }
   ],
   "source": [
    "z= np.fft.ifft(psi_guess)\n",
    "b = np.sqrt(measured_data_list[0]) #b_i = sqrt(I_i) real measured amplitude of the convoluted signal\n",
    "b = normalise(b) #normalise b\n",
    "z_c =b*np.exp(1j*np.angle(z)) # z_c(t) corrected conv signal guess in t domain\n",
    "psi_corrected =  np.fft.fft(z_c)\n",
    "plt.plot(np.abs(psi_corrected))"
   ]
  },
  {
   "cell_type": "code",
   "execution_count": 32,
   "id": "sought-concept",
   "metadata": {},
   "outputs": [
    {
     "data": {
      "text/plain": [
       "array([0.99999932+0.j, 0.99999942+0.j, 0.99999951+0.j, 0.99999959+0.j,\n",
       "       0.99999966+0.j, 0.99999971+0.j, 0.99999976+0.j, 0.99999981+0.j,\n",
       "       0.99999984+0.j, 0.99999988+0.j, 0.9999999 +0.j, 0.99999992+0.j,\n",
       "       0.99999994+0.j, 0.99999996+0.j, 0.99999997+0.j, 0.99999998+0.j,\n",
       "       0.99999998+0.j, 0.99999999+0.j, 0.99999999+0.j, 0.99999999+0.j,\n",
       "       1.        +0.j, 1.        +0.j, 1.        +0.j, 1.        +0.j,\n",
       "       1.        +0.j, 1.        +0.j, 1.        +0.j, 1.        +0.j,\n",
       "       1.        +0.j, 1.        +0.j, 1.        +0.j, 0.99999999+0.j,\n",
       "       0.99999999+0.j, 0.99999999+0.j, 0.99999998+0.j, 0.99999997+0.j,\n",
       "       0.99999996+0.j, 0.99999995+0.j, 0.99999993+0.j, 0.99999991+0.j,\n",
       "       0.99999989+0.j, 0.99999986+0.j, 0.99999983+0.j, 0.99999979+0.j,\n",
       "       0.99999974+0.j, 0.99999969+0.j, 0.99999962+0.j, 0.99999955+0.j,\n",
       "       0.99999947+0.j, 0.99999937+0.j, 0.99999927+0.j, 0.99999915+0.j,\n",
       "       0.99999902+0.j, 0.99999887+0.j, 0.99999871+0.j, 0.99999853+0.j,\n",
       "       0.99999833+0.j, 0.99999811+0.j, 0.99999787+0.j, 0.99999761+0.j,\n",
       "       0.99999733+0.j, 0.99999702+0.j, 0.99999668+0.j, 0.99999631+0.j,\n",
       "       0.99999592+0.j, 0.9999955 +0.j, 0.99999504+0.j, 0.99999455+0.j,\n",
       "       0.99999402+0.j, 0.99999345+0.j, 0.99999285+0.j, 0.9999922 +0.j,\n",
       "       0.99999151+0.j, 0.99999078+0.j, 0.99999   +0.j, 0.99998917+0.j,\n",
       "       0.99998829+0.j, 0.99998736+0.j, 0.99998638+0.j, 0.99998533+0.j,\n",
       "       0.99998423+0.j, 0.99998307+0.j, 0.99998184+0.j, 0.99998055+0.j,\n",
       "       0.99997919+0.j, 0.99997775+0.j, 0.99997625+0.j, 0.99997467+0.j,\n",
       "       0.99997302+0.j, 0.99997128+0.j, 0.99996946+0.j, 0.99996756+0.j,\n",
       "       0.99996556+0.j, 0.99996348+0.j, 0.9999613 +0.j, 0.99995903+0.j,\n",
       "       0.99995666+0.j, 0.99995419+0.j, 0.99995161+0.j, 0.99994893+0.j])"
      ]
     },
     "execution_count": 32,
     "metadata": {},
     "output_type": "execute_result"
    }
   ],
   "source": [
    "a_star*a /(abs(a)**2+0.000000001)"
   ]
  },
  {
   "cell_type": "code",
   "execution_count": null,
   "id": "listed-ethiopia",
   "metadata": {},
   "outputs": [],
   "source": []
  },
  {
   "cell_type": "code",
   "execution_count": 33,
   "id": "sacred-africa",
   "metadata": {},
   "outputs": [],
   "source": [
    "obj_0 = np.random.random(len(mask_data_list[0]))*np.exp(1j*np.random.random(len(mask_data_list[0])))\n",
    "#obj_0 = sample_data"
   ]
  },
  {
   "cell_type": "code",
   "execution_count": 34,
   "id": "boolean-decrease",
   "metadata": {},
   "outputs": [],
   "source": [
    "#apply the Hanno method\n",
    "#apply the Hanno method\n",
    "\n",
    "# choice of beta??\n",
    "alpha = 1\n",
    "beta = 0.1\n",
    "max_iter = 1000\n",
    "approx_obj = HannosMethod(np.sqrt(mask_data_list), measured_data_list, obj_0, alpha, beta,max_iter)\n",
    "\n",
    "\n",
    "#print(approx_obj) #give the x for which p(x)=0\n"
   ]
  },
  {
   "cell_type": "code",
   "execution_count": 35,
   "id": "deluxe-bacteria",
   "metadata": {},
   "outputs": [],
   "source": [
    "def normalise(x): \n",
    "    return (x-min(x))/abs(max(x)-min(x))"
   ]
  },
  {
   "cell_type": "code",
   "execution_count": null,
   "id": "statewide-accordance",
   "metadata": {},
   "outputs": [],
   "source": []
  },
  {
   "cell_type": "code",
   "execution_count": 36,
   "id": "three-tradition",
   "metadata": {},
   "outputs": [
    {
     "data": {
      "text/plain": [
       "<Figure size 1080x1080 with 0 Axes>"
      ]
     },
     "metadata": {},
     "output_type": "display_data"
    },
    {
     "data": {
      "image/png": "[encoded data removed]",
      "text/plain": [
       "<Figure size 432x288 with 1 Axes>"
      ]
     },
     "metadata": {
      "needs_background": "light"
     },
     "output_type": "display_data"
    }
   ],
   "source": [
    "plt.figure(figsize=(15,15))\n",
    "fig,ax= plt.subplots()\n",
    "#ax.plot(w, normalise(np.abs(approx_obj)), color = \"blue\")\n",
    "#ax.plot(w, normalise(np.abs(sample_data)), color = \"red\")\n",
    "ax.plot(w, np.angle(sample_data), color = \"blue\")\n",
    "ax.plot(w, np.angle(approx_obj), color = \"red\")\n",
    "#ax.plot(w, np.angle(approx_obj), color = \"red\")\n",
    "#ax.plot(w, exp_phase)\n",
    "ax.set(xlabel = \"detuning ($\\Gamma$)\",\n",
    "       ylabel = \"\",\n",
    "       title = \" X($\\omega$)\")\n",
    "plt.show()"
   ]
  },
  {
   "cell_type": "markdown",
   "id": "vocational-cycle",
   "metadata": {},
   "source": [
    "## STEEPEST DESCENT ALGORITHM"
   ]
  },
  {
   "cell_type": "code",
   "execution_count": 37,
   "id": "resident-buffer",
   "metadata": {},
   "outputs": [],
   "source": [
    "#function to implement Newton's method\n",
    "def SteepestDescent2(mask_data_list, measured_data_list, obj_0, beta, epsilon, max_iter):\n",
    "    \n",
    "    \n",
    "    '''Approximate solution of rho(obj)=0 by ITERATIVE SD method.\n",
    "\n",
    "    Parameters\n",
    "    ----------\n",
    "    rho : error function\n",
    "        Function for which we are searching for a solution rho(obj)=0.\n",
    "    Drho : function\n",
    "        Derivative of rho(obj).\n",
    "    obj_0 : vector (Signal object)\n",
    "        Initial guess for a solution rho(obj)=0. \n",
    "    epsilon : number\n",
    "        Stopping criteria is abs(rho(obj)) < epsilon.\n",
    "    max_iter : integer\n",
    "        Maximum number of iterations of iterative method.\n",
    "\n",
    "    Returns\n",
    "    -------\n",
    "    obj_n : vector (Signal object)\n",
    "        \n",
    "        #Implement Newton's method: compute the linear approximation\n",
    "        of f(x) at xn and find x intercept by the formula\n",
    "            x = xn - f(xn)/Df(xn)\n",
    "        Continue until abs(f(xn)) < epsilon and return xn.\n",
    "        If Df(xn) == 0, return None. If the number of iterations\n",
    "        exceeds max_iter, then return None.\n",
    "    '''\n",
    " \n",
    "    obj_n = obj_0 #initial guess of the object\n",
    "    \n",
    "    \n",
    "    rho = np.zeros(max_iter)\n",
    "    \n",
    "    for n in range(0,max_iter-1):\n",
    "        \n",
    "        #1. find error and further gradient of error in the object guess \n",
    "\n",
    "        ###########calculate rho, drho, ddrho(Hessian)####################\n",
    "  \n",
    "        rho_n, Drho_n = get_rho(obj_n, mask_data_list, measured_data_list)\n",
    "        \n",
    "        #2. Check if the object guess error is acceptable. We want to have error rho_n as close to 0 as possible.\n",
    "        #If it is, exit the program!\n",
    "        \n",
    "        rho[n] = rho_n\n",
    "        \n",
    "        if abs(rho_n) < epsilon:  \n",
    "            print('Found solution after',n,'iterations.')\n",
    "            return obj_n, rho, n\n",
    "        \n",
    "        #3. Check if the object guess is stuck at an inflexion point.\n",
    "            \n",
    "        if np.all(Drho_n==0):\n",
    "            print('Gradient is zero. No solution found.')\n",
    "            return obj_n, rho, n\n",
    "        \n",
    "        #apply an update to object guess (obj_n):     \n",
    "        \n",
    "        p_n= -Drho_n #search direction for steepest descent\n",
    "        \n",
    "        \n",
    "        \n",
    "        obj_n = obj_n+beta*p_n #standard optimization algorithm update\n",
    "        rho_n_1 = rho_n\n",
    "        \n",
    "    print('Exceeded maximum iterations. No solution found.')\n",
    "            \n",
    "    return obj_n, rho,n"
   ]
  },
  {
   "cell_type": "code",
   "execution_count": 75,
   "id": "distant-somalia",
   "metadata": {},
   "outputs": [
    {
     "name": "stdout",
     "output_type": "stream",
     "text": [
      "Exceeded maximum iterations. No solution found.\n"
     ]
    }
   ],
   "source": [
    "#apply the steepest descent algorithm\n",
    "\n",
    "# choice of 1>beta>0-- 0.05\n",
    "\n",
    "\n",
    "beta,epsilon,max_iter=0.5,0.1,1000\n",
    "approx_obj,rho,run_iter = SteepestDescent2(mask_data_list, measured_data_list, obj_0, beta, epsilon, max_iter) \n",
    "#print(approx_obj) #give the x for which p(x)=0"
   ]
  },
  {
   "cell_type": "code",
   "execution_count": 76,
   "id": "permanent-hybrid",
   "metadata": {},
   "outputs": [
    {
     "data": {
      "image/png": "[encoded data removed]",
      "text/plain": [
       "<Figure size 432x288 with 1 Axes>"
      ]
     },
     "metadata": {
      "needs_background": "light"
     },
     "output_type": "display_data"
    },
    {
     "data": {
      "text/plain": [
       "<Figure size 1800x1800 with 0 Axes>"
      ]
     },
     "metadata": {},
     "output_type": "display_data"
    }
   ],
   "source": [
    "fig,ax= plt.subplots()\n",
    "plt.figure(figsize=(25,25))\n",
    "ax.plot(w, np.abs(sample_data), color = \"blue\")\n",
    "ax.plot(w, np.abs(approx_obj), color = \"red\")\n",
    "#ax.plot(w, exp_phase)\n",
    "ax.set(xlabel = \"detuning ($\\Gamma$)\",\n",
    "       ylabel = \"\",\n",
    "       title = \"X($\\omega$)\")\n",
    "plt.show()"
   ]
  },
  {
   "cell_type": "code",
   "execution_count": 79,
   "id": "banned-plasma",
   "metadata": {},
   "outputs": [
    {
     "data": {
      "image/png": "[encoded data removed]",
      "text/plain": [
       "<Figure size 432x288 with 1 Axes>"
      ]
     },
     "metadata": {
      "needs_background": "light"
     },
     "output_type": "display_data"
    }
   ],
   "source": [
    "fig,ax= plt.subplots()\n",
    "#ax.plot(w, np.angle(Drho_n),color =\"blue\")\n",
    "ax.plot( rho[0: 20], color =\"red\")\n",
    "#ax.plot(w, exp_phase)\n",
    "ax.set(xlabel = \"iterations i\",\n",
    "       ylabel = \"\",\n",
    "       title = \"Steepest descent\")\n",
    "plt.show()"
   ]
  },
  {
   "cell_type": "markdown",
   "id": "conscious-plasma",
   "metadata": {},
   "source": [
    "## Conjugate Gradient Method"
   ]
  },
  {
   "cell_type": "code",
   "execution_count": 513,
   "id": "active-portland",
   "metadata": {},
   "outputs": [],
   "source": [
    "#function to implement Newton's method\n",
    "def ConjGradient(mask_data_list, measured_data_list, obj_0, beta, epsilon, max_iter):\n",
    "    \n",
    "    \n",
    "    '''Approximate solution of rho(obj)=0 by ITERATIVE SD method.\n",
    "\n",
    "    Parameters\n",
    "    ----------\n",
    "    rho : error function\n",
    "        Function for which we are searching for a solution rho(obj)=0.\n",
    "    Drho : function\n",
    "        Derivative of rho(obj).\n",
    "    obj_0 : vector (Signal object)\n",
    "        Initial guess for a solution rho(obj)=0. \n",
    "    epsilon : number\n",
    "        Stopping criteria is abs(rho(obj)) < epsilon.\n",
    "    max_iter : integer\n",
    "        Maximum number of iterations of iterative method.\n",
    "\n",
    "    Returns\n",
    "    -------\n",
    "    obj_n : vector (Signal object)\n",
    "        \n",
    "        #Implement Newton's method: compute the linear approximation\n",
    "        of f(x) at xn and find x intercept by the formula\n",
    "            x = xn - f(xn)/Df(xn)\n",
    "        Continue until abs(f(xn)) < epsilon and return xn.\n",
    "        If Df(xn) == 0, return None. If the number of iterations\n",
    "        exceeds max_iter, then return None.\n",
    "    '''\n",
    " \n",
    "    obj_n = obj_0 #initial guess of the object\n",
    "    rho = np.zeros(max_iter)\n",
    "    \n",
    "    p_n_1 =  np.random.random(len(mask_data_list[0])) np.random.random(len(mask_data_list[0])) * 1j\n",
    "    Drho_n_1 = np.random.random(len(mask_data_list[0])) + np.random.random(len(mask_data_list[0])) * 1j\n",
    "    for n in range(0,max_iter):\n",
    "        \n",
    "        #1. find error and further gradient of error in the object guess \n",
    "\n",
    "        ###########calculate rho, drho, ddrho(Hessian)####################\n",
    "        \n",
    "        rho_n, Drho_n = get_rho(obj_n, mask_data_list, measured_data_list)\n",
    "        rho[n] = rho_n\n",
    "        #2. Check if the object guess error is acceptable. We want to have error rho_n as close to 0 as possible.\n",
    "        #If it is, exit the program!\n",
    "        if abs(rho_n) < epsilon:  \n",
    "            print('Found solution after',n,'iterations.')\n",
    "            return obj_n,rho,n\n",
    "        \n",
    "        #3. Check if the object guess is stuck at an inflexion point.\n",
    "            \n",
    "        if np.all(Drho_n==0):\n",
    "            print('Gradient is zero. No solution found.')\n",
    "            return obj_n, rho,n\n",
    "        \n",
    "        #apply an update to object guess (obj_n):\n",
    "        \n",
    "        \n",
    "        alpha = np.conj(np.transpose(Drho_n)).dot(\n",
    "                                            Drho_n -Drho_n_1 \n",
    "                                           ).real / LA.norm(Drho_n_1)**2\n",
    "        \n",
    "        p_n= -Drho_n + alpha*p_n_1 #search direction for steepest descent\n",
    "        \n",
    "        obj_n = obj_n+beta*p_n #standard optimization algorithm update\n",
    "        \n",
    "        D_rho_n_1= Drho_n\n",
    "        p_n_1 =p_n\n",
    "        \n",
    "    print('Exceeded maximum iterations. No solution found.')\n",
    "            \n",
    "    return obj_n, rho,n"
   ]
  },
  {
   "cell_type": "code",
   "execution_count": 514,
   "id": "dedicated-documentation",
   "metadata": {},
   "outputs": [
    {
     "name": "stderr",
     "output_type": "stream",
     "text": [
      "<ipython-input-513-fedaa39a468c>:66: RuntimeWarning: invalid value encountered in multiply\n",
      "  obj_n = obj_n+beta*p_n #standard optimization algorithm update\n",
      "<ipython-input-513-fedaa39a468c>:64: RuntimeWarning: invalid value encountered in multiply\n",
      "  p_n= -Drho_n + alpha*p_n_1 #search direction for steepest descent\n"
     ]
    },
    {
     "name": "stdout",
     "output_type": "stream",
     "text": [
      "Exceeded maximum iterations. No solution found.\n"
     ]
    }
   ],
   "source": [
    "\n",
    "\n",
    "# choice of 1>beta>0-- 0.05\n",
    "\n",
    "\n",
    "beta,epsilon,max_iter=0.05,0.00001,500\n",
    "approx_obj,rho,run_iter = ConjGradient(mask_data_list, measured_data_list, obj_0, beta, epsilon, max_iter) \n",
    "#print(approx_obj) #give the x for which p(x)=0"
   ]
  },
  {
   "cell_type": "code",
   "execution_count": 515,
   "id": "arabic-moscow",
   "metadata": {},
   "outputs": [
    {
     "data": {
      "image/png": "[encoded data removed]",
      "text/plain": [
       "<Figure size 432x288 with 1 Axes>"
      ]
     },
     "metadata": {
      "needs_background": "light"
     },
     "output_type": "display_data"
    }
   ],
   "source": [
    "fig,ax= plt.subplots()\n",
    "ax.plot(w, np.angle(approx_obj), color = \"blue\")\n",
    "ax.plot(w, np.abs(approx_obj), color = \"red\")\n",
    "#ax.plot(w, exp_phase)\n",
    "ax.set(xlabel = \"frequency (keV)\",\n",
    "       ylabel = \"amplitude(red), phase (blue)\",\n",
    "       title = \"guess of the object function X($\\omega$) after \" +str(run_iter)+\" iterations\")\n",
    "plt.show()"
   ]
  },
  {
   "cell_type": "code",
   "execution_count": 72,
   "id": "cordless-regression",
   "metadata": {},
   "outputs": [
    {
     "data": {
      "image/png": "[encoded data removed]",
      "text/plain": [
       "<Figure size 432x288 with 1 Axes>"
      ]
     },
     "metadata": {
      "needs_background": "light"
     },
     "output_type": "display_data"
    }
   ],
   "source": [
    "fig,ax= plt.subplots()\n",
    "#ax.plot(w, np.angle(Drho_n),color =\"blue\")\n",
    "ax.plot( rho[0: run_iter], color =\"red\")\n",
    "#ax.plot(w, exp_phase)\n",
    "ax.set(xlabel = \"iterations i\",\n",
    "       ylabel = \"rho(X)\",\n",
    "       title = \"error evolution of Steepest descent\")\n",
    "plt.show()"
   ]
  },
  {
   "cell_type": "markdown",
   "id": "limiting-spouse",
   "metadata": {},
   "source": [
    "### Newton's Method"
   ]
  },
  {
   "cell_type": "code",
   "execution_count": 153,
   "id": "computational-hydrogen",
   "metadata": {},
   "outputs": [],
   "source": [
    "#function to implement Newton's method\n",
    "def Newton(mask_data_list, measured_data_list, obj_0, beta, epsilon, max_iter):\n",
    "    \n",
    "    \n",
    "    '''Approximate solution of rho(obj)=0 by ITERATIVE SD method.\n",
    "\n",
    "    Parameters\n",
    "    ----------\n",
    "    rho : error function\n",
    "        Function for which we are searching for a solution rho(obj)=0.\n",
    "    Drho : function\n",
    "        Derivative of rho(obj).\n",
    "    obj_0 : vector (Signal object)\n",
    "        Initial guess for a solution rho(obj)=0. \n",
    "    epsilon : number\n",
    "        Stopping criteria is abs(rho(obj)) < epsilon.\n",
    "    max_iter : integer\n",
    "        Maximum number of iterations of iterative method.\n",
    "\n",
    "    Returns\n",
    "    -------\n",
    "    obj_n : vector (Signal object)\n",
    "        \n",
    "        #Implement Newton's method: compute the linear approximation\n",
    "        of f(x) at xn and find x intercept by the formula\n",
    "            x = xn - f(xn)/Df(xn)\n",
    "        Continue until abs(f(xn)) < epsilon and return xn.\n",
    "        If Df(xn) == 0, return None. If the number of iterations\n",
    "        exceeds max_iter, then return None.\n",
    "    '''\n",
    " \n",
    "    obj_n = obj_0 #initial guess of the object\n",
    "    rho = np.zeros(max_iter)\n",
    "    \n",
    "    for n in range(0,max_iter):\n",
    "        \n",
    "        #1. find error and further gradient of error in the object guess \n",
    "\n",
    "        ###########calculate rho, drho, ddrho(Hessian)####################\n",
    "        \n",
    "        rho_n,Drho_n,Hessian_n = getErrorFunc(obj_n, mask_data_list, measured_data_list)\n",
    "        rho[n] = rho_n\n",
    "        #2. Check if the object guess error is acceptable. We want to have error rho_n as close to 0 as possible.\n",
    "        #If it is, exit the program!\n",
    "        if abs(rho_n) < epsilon:  \n",
    "            print('Found solution after',n,'iterations.')\n",
    "            return obj_n,rho,n\n",
    "        \n",
    "        #3. Check if the object guess is stuck at an inflexion point.\n",
    "            \n",
    "        if np.all(Drho_n==0):\n",
    "            print('Gradient is zero. No solution found.')\n",
    "            return obj_n, rho,n\n",
    "        \n",
    "        #apply an update to object guess (obj_n):\n",
    "        \n",
    "        \n",
    "        \n",
    "        p_n= -(LA.inv(Hessian_n)**2).dot( np.concatenate( (Drho_n, np.conj(Drho_n)),axis =0 ) ) #search direction for Newton's algorithm\n",
    "        #print(type(p_n))\n",
    "        p_n = np.squeeze(np.asarray(p_n))\n",
    "        p_n_part = p_n[0: len(obj_n)-80]\n",
    "        \n",
    "        obj_n = obj_n+beta*p_n_part[0] #standard optimization algorithm update\n",
    "        \n",
    "        #obj_n = np.transpose(obj_n)\n",
    "    print('Exceeded maximum iterations. No solution found.')\n",
    "            \n",
    "    return obj_n, rho,n"
   ]
  },
  {
   "cell_type": "code",
   "execution_count": 157,
   "id": "accepting-defendant",
   "metadata": {},
   "outputs": [
    {
     "name": "stderr",
     "output_type": "stream",
     "text": [
      "<ipython-input-2-96dbbb3b87ca>:91: RuntimeWarning: overflow encountered in power\n",
      "  np.diag(b*z**2/abs(z)**3 ).dot(\n",
      "<ipython-input-2-96dbbb3b87ca>:46: RuntimeWarning: overflow encountered in double_scalars\n",
      "  rho+=0.5*LA.norm(r)**2 # rho (for nth iteration) = 0.5*||r||^2\n",
      "<ipython-input-2-96dbbb3b87ca>:91: RuntimeWarning: overflow encountered in square\n",
      "  np.diag(b*z**2/abs(z)**3 ).dot(\n",
      "<ipython-input-2-96dbbb3b87ca>:91: RuntimeWarning: invalid value encountered in square\n",
      "  np.diag(b*z**2/abs(z)**3 ).dot(\n",
      "<ipython-input-2-96dbbb3b87ca>:91: RuntimeWarning: invalid value encountered in multiply\n",
      "  np.diag(b*z**2/abs(z)**3 ).dot(\n"
     ]
    },
    {
     "name": "stdout",
     "output_type": "stream",
     "text": [
      "Exceeded maximum iterations. No solution found.\n"
     ]
    }
   ],
   "source": [
    "\n",
    "\n",
    "# choice of 1>beta>0-- 0.05\n",
    "\n",
    "\n",
    "beta,epsilon,max_iter=0.05,0.01,50\n",
    "approx_obj,rho,run_iter = Newton(mask_data_list, measured_data_list, obj_0, beta, epsilon, max_iter) \n",
    "#print(approx_obj) #give the x for which p(x)=0"
   ]
  },
  {
   "cell_type": "code",
   "execution_count": 158,
   "id": "honey-devon",
   "metadata": {},
   "outputs": [
    {
     "data": {
      "image/png": "[encoded data removed]",
      "text/plain": [
       "<Figure size 432x288 with 1 Axes>"
      ]
     },
     "metadata": {
      "needs_background": "light"
     },
     "output_type": "display_data"
    }
   ],
   "source": [
    "fig,ax= plt.subplots()\n",
    "ax.plot(w, np.angle(approx_obj), color = \"blue\")\n",
    "ax.plot(w, np.abs(approx_obj), color = \"red\")\n",
    "#ax.plot(w, exp_phase)\n",
    "ax.set(xlabel = \"frequency (keV)\",\n",
    "       ylabel = \"amplitude(red), phase (blue)\",\n",
    "       title = \"guess of the object function X($\\omega$) after \" +str(run_iter)+\" iterations\")\n",
    "plt.show()"
   ]
  },
  {
   "cell_type": "code",
   "execution_count": 161,
   "id": "sensitive-valuable",
   "metadata": {},
   "outputs": [
    {
     "data": {
      "image/png": "[encoded data removed]",
      "text/plain": [
       "<Figure size 432x288 with 1 Axes>"
      ]
     },
     "metadata": {
      "needs_background": "light"
     },
     "output_type": "display_data"
    }
   ],
   "source": [
    "fig,ax= plt.subplots()\n",
    "#ax.plot(w, np.angle(Drho_n),color =\"blue\")\n",
    "ax.plot( rho[0: run_iter], color =\"red\")\n",
    "#ax.plot(w, exp_phase)\n",
    "ax.set(xlabel = \"iterations i\",\n",
    "       ylabel = \"rho(X)\",\n",
    "       title = \"error evolution of Steepest descent\")\n",
    "plt.show()"
   ]
  },
  {
   "cell_type": "code",
   "execution_count": null,
   "id": "prerequisite-senator",
   "metadata": {},
   "outputs": [],
   "source": []
  },
  {
   "cell_type": "code",
   "execution_count": null,
   "id": "graduate-north",
   "metadata": {},
   "outputs": [],
   "source": []
  },
  {
   "cell_type": "code",
   "execution_count": null,
   "id": "resident-involvement",
   "metadata": {},
   "outputs": [],
   "source": []
  },
  {
   "cell_type": "code",
   "execution_count": null,
   "id": "engaged-thinking",
   "metadata": {},
   "outputs": [],
   "source": []
  },
  {
   "cell_type": "code",
   "execution_count": 69,
   "id": "expensive-adaptation",
   "metadata": {},
   "outputs": [
    {
     "ename": "KeyboardInterrupt",
     "evalue": "",
     "output_type": "error",
     "traceback": [
      "\u001b[0;31m---------------------------------------------------------------------------\u001b[0m",
      "\u001b[0;31mKeyboardInterrupt\u001b[0m                         Traceback (most recent call last)",
      "\u001b[0;32m<ipython-input-69-a4a9f372eec3>\u001b[0m in \u001b[0;36m<module>\u001b[0;34m\u001b[0m\n\u001b[1;32m      5\u001b[0m \u001b[0;34m\u001b[0m\u001b[0m\n\u001b[1;32m      6\u001b[0m \u001b[0meta\u001b[0m\u001b[0;34m,\u001b[0m\u001b[0mbeta\u001b[0m\u001b[0;34m,\u001b[0m\u001b[0malpha\u001b[0m\u001b[0;34m,\u001b[0m\u001b[0mepsilon\u001b[0m\u001b[0;34m,\u001b[0m\u001b[0mmax_iter\u001b[0m\u001b[0;34m=\u001b[0m\u001b[0;36m1.0\u001b[0m\u001b[0;34m,\u001b[0m\u001b[0;36m0.5\u001b[0m\u001b[0;34m,\u001b[0m\u001b[0;36m0.5\u001b[0m\u001b[0;34m,\u001b[0m\u001b[0;36m0.00001\u001b[0m\u001b[0;34m,\u001b[0m\u001b[0;36m500\u001b[0m\u001b[0;34m\u001b[0m\u001b[0;34m\u001b[0m\u001b[0m\n\u001b[0;32m----> 7\u001b[0;31m \u001b[0mapprox_obj\u001b[0m\u001b[0;34m,\u001b[0m\u001b[0mrho\u001b[0m \u001b[0;34m=\u001b[0m \u001b[0mSteepestDescent0\u001b[0m\u001b[0;34m(\u001b[0m\u001b[0mmask_data_list\u001b[0m\u001b[0;34m,\u001b[0m \u001b[0mmeasured_data_list\u001b[0m\u001b[0;34m,\u001b[0m \u001b[0mobj_0\u001b[0m\u001b[0;34m,\u001b[0m \u001b[0meta\u001b[0m\u001b[0;34m,\u001b[0m \u001b[0mbeta\u001b[0m\u001b[0;34m,\u001b[0m \u001b[0malpha\u001b[0m\u001b[0;34m,\u001b[0m \u001b[0mepsilon\u001b[0m\u001b[0;34m,\u001b[0m \u001b[0mmax_iter\u001b[0m\u001b[0;34m)\u001b[0m\u001b[0;34m\u001b[0m\u001b[0;34m\u001b[0m\u001b[0m\n\u001b[0m\u001b[1;32m      8\u001b[0m \u001b[0;31m#print(approx_obj) #give the x for which p(x)=0\u001b[0m\u001b[0;34m\u001b[0m\u001b[0;34m\u001b[0m\u001b[0;34m\u001b[0m\u001b[0m\n",
      "\u001b[0;32m<ipython-input-4-f30a41c10d4f>\u001b[0m in \u001b[0;36mSteepestDescent0\u001b[0;34m(mask_data_list, measured_data_list, obj_0, eta, beta, alpha, epsilon, max_iter)\u001b[0m\n\u001b[1;32m     77\u001b[0m             \u001b[0mrho_n_1\u001b[0m\u001b[0;34m,\u001b[0m\u001b[0mDrho_n_1\u001b[0m \u001b[0;34m=\u001b[0m \u001b[0mrho_n\u001b[0m\u001b[0;34m,\u001b[0m\u001b[0mDrho_n\u001b[0m\u001b[0;34m\u001b[0m\u001b[0;34m\u001b[0m\u001b[0m\n\u001b[1;32m     78\u001b[0m             \u001b[0mobj_n\u001b[0m \u001b[0;34m=\u001b[0m \u001b[0mobj_n\u001b[0m\u001b[0;34m+\u001b[0m\u001b[0mLambda\u001b[0m\u001b[0;34m*\u001b[0m\u001b[0mp_n\u001b[0m\u001b[0;34m\u001b[0m\u001b[0;34m\u001b[0m\u001b[0m\n\u001b[0;32m---> 79\u001b[0;31m             \u001b[0mrho_n\u001b[0m\u001b[0;34m,\u001b[0m\u001b[0mDrho_n\u001b[0m \u001b[0;34m=\u001b[0m \u001b[0mget_rho\u001b[0m\u001b[0;34m(\u001b[0m\u001b[0mobj_n\u001b[0m\u001b[0;34m,\u001b[0m \u001b[0mmask_data_list\u001b[0m\u001b[0;34m,\u001b[0m \u001b[0mmeasured_data_list\u001b[0m\u001b[0;34m)\u001b[0m\u001b[0;34m\u001b[0m\u001b[0;34m\u001b[0m\u001b[0m\n\u001b[0m\u001b[1;32m     80\u001b[0m \u001b[0;34m\u001b[0m\u001b[0m\n\u001b[1;32m     81\u001b[0m             \u001b[0mLambda\u001b[0m\u001b[0;34m*=\u001b[0m \u001b[0mbeta\u001b[0m\u001b[0;34m\u001b[0m\u001b[0;34m\u001b[0m\u001b[0m\n",
      "\u001b[0;32m<ipython-input-18-e168c83235f1>\u001b[0m in \u001b[0;36mget_rho\u001b[0;34m(obj, mask_data_list, measured_data_list)\u001b[0m\n\u001b[1;32m     41\u001b[0m             \u001b[0mr\u001b[0m \u001b[0;34m=\u001b[0m \u001b[0mabs\u001b[0m\u001b[0;34m(\u001b[0m\u001b[0mz\u001b[0m\u001b[0;34m)\u001b[0m\u001b[0;34m-\u001b[0m\u001b[0mb\u001b[0m \u001b[0;31m#residuals\u001b[0m\u001b[0;34m\u001b[0m\u001b[0;34m\u001b[0m\u001b[0m\n\u001b[1;32m     42\u001b[0m \u001b[0;34m\u001b[0m\u001b[0m\n\u001b[0;32m---> 43\u001b[0;31m             \u001b[0mrho\u001b[0m\u001b[0;34m+=\u001b[0m\u001b[0;36m0.5\u001b[0m\u001b[0;34m*\u001b[0m\u001b[0mLA\u001b[0m\u001b[0;34m.\u001b[0m\u001b[0mnorm\u001b[0m\u001b[0;34m(\u001b[0m\u001b[0mr\u001b[0m\u001b[0;34m)\u001b[0m\u001b[0;34m**\u001b[0m\u001b[0;36m2\u001b[0m \u001b[0;31m# rho (for nth iteration) = 0.5*||r||^2\u001b[0m\u001b[0;34m\u001b[0m\u001b[0;34m\u001b[0m\u001b[0m\n\u001b[0m\u001b[1;32m     44\u001b[0m             Drho+= 0.5*Q_star.dot( \n\u001b[1;32m     45\u001b[0m                                      np.fft.fft(  \n",
      "\u001b[0;32m<__array_function__ internals>\u001b[0m in \u001b[0;36mnorm\u001b[0;34m(*args, **kwargs)\u001b[0m\n",
      "\u001b[0;32m~/miniconda3/lib/python3.8/site-packages/numpy/linalg/linalg.py\u001b[0m in \u001b[0;36mnorm\u001b[0;34m(x, ord, axis, keepdims)\u001b[0m\n\u001b[1;32m   2528\u001b[0m                 \u001b[0msqnorm\u001b[0m \u001b[0;34m=\u001b[0m \u001b[0mdot\u001b[0m\u001b[0;34m(\u001b[0m\u001b[0mx\u001b[0m\u001b[0;34m.\u001b[0m\u001b[0mreal\u001b[0m\u001b[0;34m,\u001b[0m \u001b[0mx\u001b[0m\u001b[0;34m.\u001b[0m\u001b[0mreal\u001b[0m\u001b[0;34m)\u001b[0m \u001b[0;34m+\u001b[0m \u001b[0mdot\u001b[0m\u001b[0;34m(\u001b[0m\u001b[0mx\u001b[0m\u001b[0;34m.\u001b[0m\u001b[0mimag\u001b[0m\u001b[0;34m,\u001b[0m \u001b[0mx\u001b[0m\u001b[0;34m.\u001b[0m\u001b[0mimag\u001b[0m\u001b[0;34m)\u001b[0m\u001b[0;34m\u001b[0m\u001b[0;34m\u001b[0m\u001b[0m\n\u001b[1;32m   2529\u001b[0m             \u001b[0;32melse\u001b[0m\u001b[0;34m:\u001b[0m\u001b[0;34m\u001b[0m\u001b[0;34m\u001b[0m\u001b[0m\n\u001b[0;32m-> 2530\u001b[0;31m                 \u001b[0msqnorm\u001b[0m \u001b[0;34m=\u001b[0m \u001b[0mdot\u001b[0m\u001b[0;34m(\u001b[0m\u001b[0mx\u001b[0m\u001b[0;34m,\u001b[0m \u001b[0mx\u001b[0m\u001b[0;34m)\u001b[0m\u001b[0;34m\u001b[0m\u001b[0;34m\u001b[0m\u001b[0m\n\u001b[0m\u001b[1;32m   2531\u001b[0m             \u001b[0mret\u001b[0m \u001b[0;34m=\u001b[0m \u001b[0msqrt\u001b[0m\u001b[0;34m(\u001b[0m\u001b[0msqnorm\u001b[0m\u001b[0;34m)\u001b[0m\u001b[0;34m\u001b[0m\u001b[0;34m\u001b[0m\u001b[0m\n\u001b[1;32m   2532\u001b[0m             \u001b[0;32mif\u001b[0m \u001b[0mkeepdims\u001b[0m\u001b[0;34m:\u001b[0m\u001b[0;34m\u001b[0m\u001b[0;34m\u001b[0m\u001b[0m\n",
      "\u001b[0;32m<__array_function__ internals>\u001b[0m in \u001b[0;36mdot\u001b[0;34m(*args, **kwargs)\u001b[0m\n",
      "\u001b[0;31mKeyboardInterrupt\u001b[0m: "
     ]
    }
   ],
   "source": [
    "#apply the steepest descent algorithm\n",
    "\n",
    "# choice of beta -- 0.5\n",
    "\n",
    "\n",
    "eta,beta,alpha,epsilon,max_iter=1.0,0.5,0.5,0.00001,500\n",
    "approx_obj,rho = SteepestDescent0(mask_data_list, measured_data_list, obj_0, eta, beta, alpha, epsilon, max_iter) \n",
    "#print(approx_obj) #give the x for which p(x)=0"
   ]
  },
  {
   "cell_type": "code",
   "execution_count": 292,
   "id": "attended-baptist",
   "metadata": {},
   "outputs": [
    {
     "data": {
      "image/png": "[encoded data removed]",
      "text/plain": [
       "<Figure size 432x288 with 1 Axes>"
      ]
     },
     "metadata": {
      "needs_background": "light"
     },
     "output_type": "display_data"
    }
   ],
   "source": [
    "fig,ax= plt.subplots()\n",
    "ax.plot(w, np.angle(approx_obj), color = \"blue\")\n",
    "#ax.plot(w, np.abs(approx_obj), color = \"red\")\n",
    "#ax.plot(w, exp_phase)\n",
    "ax.set(xlabel = \"frequency (keV)\",\n",
    "       ylabel = \"amplitude(red), phase (blue)\",\n",
    "       title = \"guess of the object function X($\\omega$) after \" +str(max_iter)+\" iterations\")\n",
    "plt.show()"
   ]
  },
  {
   "cell_type": "code",
   "execution_count": 245,
   "id": "cooperative-collapse",
   "metadata": {},
   "outputs": [
    {
     "data": {
      "image/png": "[encoded data removed]",
      "text/plain": [
       "<Figure size 432x288 with 1 Axes>"
      ]
     },
     "metadata": {
      "needs_background": "light"
     },
     "output_type": "display_data"
    }
   ],
   "source": [
    "fig,ax= plt.subplots()\n",
    "#ax.plot(w, np.angle(Drho_n),color =\"blue\")\n",
    "ax.plot( rho, color =\"red\")\n",
    "#ax.plot(w, exp_phase)\n",
    "ax.set(xlabel = \"iterations i\",\n",
    "       ylabel = \" rho\",\n",
    "       title = \"error evolution of Steepest descent\")\n",
    "plt.show()"
   ]
  },
  {
   "cell_type": "code",
   "execution_count": 287,
   "id": "universal-sheffield",
   "metadata": {},
   "outputs": [
    {
     "name": "stdout",
     "output_type": "stream",
     "text": [
      "Exceeded maximum iterations. No solution found.\n"
     ]
    }
   ],
   "source": [
    "#apply the conjugate gradient algorithm\n",
    "\n",
    "# choice of beta??\n",
    "\n",
    "beta,epsilon,max_iter=0.5,0.00001,50\n",
    "approx_obj,rho = SteepestDescent2(mask_data_list, measured_data_list, obj_0, beta, epsilon, max_iter) \n",
    "#print(approx_obj) #give the x for which p(x)=0"
   ]
  },
  {
   "cell_type": "code",
   "execution_count": 289,
   "id": "hidden-watch",
   "metadata": {},
   "outputs": [
    {
     "data": {
      "image/png": "[encoded data removed]",
      "text/plain": [
       "<Figure size 432x288 with 1 Axes>"
      ]
     },
     "metadata": {
      "needs_background": "light"
     },
     "output_type": "display_data"
    }
   ],
   "source": [
    "fig,ax= plt.subplots()\n",
    "ax.plot(w, np.angle(approx_obj), color = \"blue\")\n",
    "ax.plot(w, np.abs(approx_obj), color = \"red\")\n",
    "#ax.plot(w, exp_phase)\n",
    "ax.set(xlabel = \"frequency (keV)\",\n",
    "       ylabel = \"amplitude(red), phase (blue)\",\n",
    "       title = \"guess of the object function X($\\omega$) after \" +str(max_iter)+\" iterations\")\n",
    "plt.show()"
   ]
  },
  {
   "cell_type": "code",
   "execution_count": 212,
   "id": "illegal-eating",
   "metadata": {},
   "outputs": [
    {
     "data": {
      "image/png": "[encoded data removed]",
      "text/plain": [
       "<Figure size 432x288 with 1 Axes>"
      ]
     },
     "metadata": {
      "needs_background": "light"
     },
     "output_type": "display_data"
    }
   ],
   "source": [
    "fig,ax= plt.subplots()\n",
    "#ax.plot(w, np.angle(Drho_n),color =\"blue\")\n",
    "ax.plot( rho, color =\"red\")\n",
    "#ax.plot(w, exp_phase)\n",
    "ax.set(xlabel = \"iterations i\",\n",
    "       ylabel = \" rho\",\n",
    "       title = \"error evolution of Steepest descent\")\n",
    "plt.show()"
   ]
  },
  {
   "cell_type": "code",
   "execution_count": null,
   "id": "according-faith",
   "metadata": {},
   "outputs": [],
   "source": [
    "#apply the Hanno method\n",
    "\n",
    "# choice of beta??\n",
    "approx_obj = HannosMethod(mask_data_list, measured_data_list, obj_0, 0.1, 0.00001,1000) \n",
    "#print(approx_obj) #give the x for which p(x)=0\n"
   ]
  },
  {
   "cell_type": "code",
   "execution_count": null,
   "id": "sound-creek",
   "metadata": {},
   "outputs": [],
   "source": [
    "fig,ax= plt.subplots()\n",
    "ax.plot(w, np.angle(approx_obj), color = \"blue\")\n",
    "ax.plot(w, np.abs(approx_obj), color = \"red\")\n",
    "#ax.plot(w, exp_phase)\n",
    "ax.set(xlabel = \"frequency (keV)\",\n",
    "       ylabel = \"amplitude(red), phase (blue)\",\n",
    "       title = \"guess of the object function X($\\omega$) after \" +str(max_iter)+\" iterations\")\n",
    "plt.show()"
   ]
  },
  {
   "cell_type": "code",
   "execution_count": null,
   "id": "based-clause",
   "metadata": {},
   "outputs": [],
   "source": []
  },
  {
   "cell_type": "code",
   "execution_count": null,
   "id": "exposed-payment",
   "metadata": {},
   "outputs": [],
   "source": []
  },
  {
   "cell_type": "code",
   "execution_count": null,
   "id": "better-saint",
   "metadata": {},
   "outputs": [],
   "source": []
  },
  {
   "cell_type": "code",
   "execution_count": null,
   "id": "visible-wheel",
   "metadata": {},
   "outputs": [],
   "source": []
  },
  {
   "cell_type": "code",
   "execution_count": 421,
   "id": "objective-tuner",
   "metadata": {},
   "outputs": [
    {
     "data": {
      "text/plain": [
       "<matplotlib.image.AxesImage at 0x7fc7c00e91f0>"
      ]
     },
     "execution_count": 421,
     "metadata": {},
     "output_type": "execute_result"
    },
    {
     "data": {
      "image/png": "[encoded data removed]",
      "text/plain": [
       "<Figure size 432x288 with 1 Axes>"
      ]
     },
     "metadata": {
      "needs_background": "light"
     },
     "output_type": "display_data"
    }
   ],
   "source": [
    "plt.imshow(np.abs(LA.inv(Hessian_n)))"
   ]
  },
  {
   "cell_type": "code",
   "execution_count": 234,
   "id": "relative-thong",
   "metadata": {},
   "outputs": [
    {
     "data": {
      "image/png": "[encoded data removed]",
      "text/plain": [
       "<Figure size 432x288 with 2 Axes>"
      ]
     },
     "metadata": {
      "needs_background": "light"
     },
     "output_type": "display_data"
    }
   ],
   "source": [
    "plt.imshow(abs(H_22),aspect='auto')\n",
    "plt.colorbar()\n",
    "plt.show()"
   ]
  },
  {
   "cell_type": "code",
   "execution_count": 39,
   "id": "dental-obligation",
   "metadata": {},
   "outputs": [
    {
     "data": {
      "image/png": "[encoded data removed]",
      "text/plain": [
       "<Figure size 432x288 with 2 Axes>"
      ]
     },
     "metadata": {
      "needs_background": "light"
     },
     "output_type": "display_data"
    }
   ],
   "source": [
    "measured_data_list=np.fft.fft(measured_data_list, axis =0)\n",
    "\n",
    "plt.imshow(abs(measured_data_list),aspect='auto')\n",
    "plt.colorbar()\n",
    "plt.show()"
   ]
  },
  {
   "cell_type": "code",
   "execution_count": 40,
   "id": "dynamic-creature",
   "metadata": {},
   "outputs": [
    {
     "data": {
      "image/png": "[encoded data removed]",
      "text/plain": [
       "<Figure size 432x288 with 2 Axes>"
      ]
     },
     "metadata": {
      "needs_background": "light"
     },
     "output_type": "display_data"
    }
   ],
   "source": [
    "measured_data_list=np.fft.fft(measured_data_list, axis =1)\n",
    "\n",
    "plt.imshow(abs(measured_data_list),aspect='auto')\n",
    "plt.colorbar()\n",
    "plt.show()"
   ]
  },
  {
   "cell_type": "code",
   "execution_count": 55,
   "id": "grateful-magnet",
   "metadata": {},
   "outputs": [],
   "source": []
  },
  {
   "cell_type": "code",
   "execution_count": null,
   "id": "satisfied-constraint",
   "metadata": {},
   "outputs": [],
   "source": []
  },
  {
   "cell_type": "code",
   "execution_count": 355,
   "id": "sustained-processing",
   "metadata": {},
   "outputs": [
    {
     "name": "stderr",
     "output_type": "stream",
     "text": [
      "<ipython-input-323-7520c062c6ff>:42: RuntimeWarning: overflow encountered in absolute\n",
      "  rho_n+=0.5*LA.norm(abs(z)-measured_data_list[i])**2\n",
      "<ipython-input-323-7520c062c6ff>:54: RuntimeWarning: overflow encountered in absolute\n",
      "  Drho_n+= 0.5*( Q_star.dot(Q.dot(obj_n)) - Q_star.dot(np.fft.fft(np.diag(z/abs(z))).dot(measured_data_list[i]))  )\n"
     ]
    },
    {
     "name": "stdout",
     "output_type": "stream",
     "text": [
      "Exceeded maximum iterations. No solution found.\n",
      "None\n"
     ]
    }
   ],
   "source": []
  },
  {
   "cell_type": "code",
   "execution_count": 356,
   "id": "growing-building",
   "metadata": {},
   "outputs": [
    {
     "data": {
      "image/png": "[encoded data removed]",
      "text/plain": [
       "<Figure size 432x288 with 1 Axes>"
      ]
     },
     "metadata": {
      "needs_background": "light"
     },
     "output_type": "display_data"
    }
   ],
   "source": [
    "\n",
    "fig,ax= plt.subplots()\n",
    "ax.plot(w, np.angle(obj_0))\n",
    "#ax.plot(w, exp_phase)\n",
    "ax.set(xlabel = \"frequency\",\n",
    "       ylabel = \"Intensity\",\n",
    "       title = \"amplitude and phase profile of convolution\")\n",
    "plt.show()"
   ]
  },
  {
   "cell_type": "markdown",
   "id": "suited-lemon",
   "metadata": {},
   "source": [
    "### Wigner Deconvolution"
   ]
  },
  {
   "cell_type": "code",
   "execution_count": 32,
   "id": "organic-louis",
   "metadata": {},
   "outputs": [
    {
     "ename": "SyntaxError",
     "evalue": "invalid syntax (<ipython-input-32-cc443aa235f6>, line 6)",
     "output_type": "error",
     "traceback": [
      "\u001b[0;36m  File \u001b[0;32m\"<ipython-input-32-cc443aa235f6>\"\u001b[0;36m, line \u001b[0;32m6\u001b[0m\n\u001b[0;31m    while jjkkkk\u001b[0m\n\u001b[0m                ^\u001b[0m\n\u001b[0;31mSyntaxError\u001b[0m\u001b[0;31m:\u001b[0m invalid syntax\n"
     ]
    }
   ],
   "source": [
    "#function to implement Newton's method\n",
    "def newton(mask_data_list, measured_data_list, obj_0,epsilon,max_iter):\n",
    "\n",
    "    obj_n = obj_0\n",
    "    \n",
    "    while jjkkkk\n",
    "    img_guess = np.abs(np.fft.ifft(mask_data_list.dot(obj_0)))**2\n",
    "    measured_data_list - img_guess = epsilon\n",
    "    \n",
    "    obj_n = obj_n + \n",
    "    \n",
    "    \n",
    "    \n",
    "    \n",
    "    \n",
    "    for n in range(0,max_iter):\n",
    "        rho_n = 0\n",
    "        for i in range(len(mask_data_list)):\n",
    "            Q = np.diag(mask_data_list[i])\n",
    "            z= np.fft.ifft(Q.dot(obj_n))\n",
    "            rho_n+=0.5*LA.norm(abs(z)-measured_data_list[i])**2\n",
    "            \n",
    "        if abs(rho_n) < epsilon:\n",
    "            print('Found solution after',n,'iterations.')\n",
    "            return obj_n\n",
    "        \n",
    "        Drho_n = np.zeros_like(mask_data_list[0]) \n",
    "        \n",
    "        for i in range(len(mask_data_list)):\n",
    "            Q = np.diag(mask_data_list[i])\n",
    "            Q_star = np.diag(np.conj(mask_data_list[i]))\n",
    "            z= np.fft.ifft(Q.dot(obj_n))\n",
    "            Drho_n+= 0.5*( Q_star.dot(Q.dot(obj_n)) - Q_star.dot(np.fft.fft(np.diag(z/abs(z))).dot(measured_data_list[i]))  )\n",
    "        if np.all(Drho_n==0):\n",
    "            print('Gradient is zero. No solution found.')\n",
    "            return None\n",
    "        \n",
    "        obj_n = obj_n-2*Drho_n\n",
    "    print('Exceeded maximum iterations. No solution found.')\n",
    "            \n",
    "    return None"
   ]
  },
  {
   "cell_type": "markdown",
   "id": "genuine-friendly",
   "metadata": {},
   "source": [
    "## ROUGH WORK"
   ]
  },
  {
   "cell_type": "code",
   "execution_count": 261,
   "id": "closed-thanks",
   "metadata": {},
   "outputs": [],
   "source": [
    "test[abs(test) <1e-19] =10"
   ]
  },
  {
   "cell_type": "code",
   "execution_count": 262,
   "id": "hourly-savings",
   "metadata": {},
   "outputs": [
    {
     "data": {
      "text/plain": [
       "array([[1.+1.j, 1.+0.j],\n",
       "       [1.+0.j, 2.+2.j]])"
      ]
     },
     "execution_count": 262,
     "metadata": {},
     "output_type": "execute_result"
    }
   ],
   "source": [
    "test"
   ]
  },
  {
   "cell_type": "code",
   "execution_count": 409,
   "id": "crazy-former",
   "metadata": {},
   "outputs": [],
   "source": [
    "test1 =np.array([1,2])\n",
    "test2 =np.array([3,4])\n",
    "test3 = np.append(test1,test2)"
   ]
  },
  {
   "cell_type": "code",
   "execution_count": 410,
   "id": "described-headset",
   "metadata": {},
   "outputs": [
    {
     "name": "stdout",
     "output_type": "stream",
     "text": [
      "[1 2 3 4]\n"
     ]
    }
   ],
   "source": [
    "print(test3)"
   ]
  },
  {
   "cell_type": "code",
   "execution_count": 411,
   "id": "native-starter",
   "metadata": {},
   "outputs": [
    {
     "data": {
      "text/plain": [
       "numpy.ndarray"
      ]
     },
     "execution_count": 411,
     "metadata": {},
     "output_type": "execute_result"
    }
   ],
   "source": [
    "type(test3)"
   ]
  },
  {
   "cell_type": "code",
   "execution_count": 595,
   "id": "consecutive-homeless",
   "metadata": {},
   "outputs": [
    {
     "data": {
      "text/plain": [
       "array([3, 8])"
      ]
     },
     "execution_count": 595,
     "metadata": {},
     "output_type": "execute_result"
    }
   ],
   "source": [
    "test1*test2"
   ]
  },
  {
   "cell_type": "code",
   "execution_count": null,
   "id": "sacred-still",
   "metadata": {},
   "outputs": [],
   "source": []
  },
  {
   "cell_type": "code",
   "execution_count": 761,
   "id": "interior-conducting",
   "metadata": {},
   "outputs": [],
   "source": [
    "#function to implement Newton's method\n",
    "def HannosMethod0(mask_data_list, measured_data_list, obj_0, alpha, beta, epsilon, max_iter):\n",
    "    \n",
    "    \n",
    "    '''Approximate solution of rho(obj)=0 by ITERATIVE SD method.\n",
    "\n",
    "    Parameters\n",
    "    ----------\n",
    "    rho : error function\n",
    "        Function for which we are searching for a solution rho(obj)=0.\n",
    "    Drho : function\n",
    "        Derivative of rho(obj).\n",
    "    obj_0 : vector (Signal object)\n",
    "        Initial guess for a solution rho(obj)=0. \n",
    "    epsilon : number\n",
    "        Stopping criteria is abs(rho(obj)) < epsilon.\n",
    "    max_iter : integer\n",
    "        Maximum number of iterations of iterative method.\n",
    "\n",
    "    Returns\n",
    "    -------\n",
    "    obj_n : vector (Signal object)\n",
    "        \n",
    "        #Implement Newton's method: compute the linear approximation\n",
    "        of f(x) at xn and find x intercept by the formula\n",
    "            x = xn - f(xn)/Df(xn)\n",
    "        Continue until abs(f(xn)) < epsilon and return xn.\n",
    "        If Df(xn) == 0, return None. If the number of iterations\n",
    "        exceeds max_iter, then return None.\n",
    "    '''\n",
    " \n",
    "    obj_n = obj_0 #initial guess of the object\n",
    "    \n",
    "    \n",
    "    rho = np.zeros(max_iter)\n",
    "    \n",
    "    for n in range(0,max_iter-1):\n",
    "        \n",
    "        #1. find error and further gradient of error in the object guess \n",
    "\n",
    "        ###########calculate rho, drho, ddrho(Hessian)####################\n",
    "  \n",
    "        rho_n, Drho_n = get_rho_regularised(obj_n, mask_data_list, measured_data_list,alpha)\n",
    "        \n",
    "        #2. Check if the object guess error is acceptable. We want to have error rho_n as close to 0 as possible.\n",
    "        #If it is, exit the program!\n",
    "        \n",
    "        rho[n] = rho_n\n",
    "        \n",
    "        if abs(rho_n) < epsilon:  \n",
    "            print('Found solution after',n,'iterations.')\n",
    "            return obj_n, rho, n\n",
    "        \n",
    "        #3. Check if the object guess is stuck at an inflexion point.\n",
    "            \n",
    "        if np.all(Drho_n==0):\n",
    "            print('Gradient is zero. No solution found.')\n",
    "            return obj_n, rho, n\n",
    "        \n",
    "        #apply an update to object guess (obj_n):     \n",
    "        \n",
    "        p_n= -Drho_n #search direction for steepest descent\n",
    "        \n",
    "        \n",
    "        obj_n = obj_n+beta*p_n #standard optimization algorithm update\n",
    "        \n",
    "    print('Exceeded maximum iterations. No solution found.')\n",
    "            \n",
    "    return obj_n, rho, n"
   ]
  }
 ],
 "metadata": {
  "kernelspec": {
   "display_name": "Python 3",
   "language": "python",
   "name": "python3"
  },
  "language_info": {
   "codemirror_mode": {
    "name": "ipython",
    "version": 3
   },
   "file_extension": ".py",
   "mimetype": "text/x-python",
   "name": "python",
   "nbconvert_exporter": "python",
   "pygments_lexer": "ipython3",
   "version": "3.8.5"
  }
 },
 "nbformat": 4,
 "nbformat_minor": 5
}
